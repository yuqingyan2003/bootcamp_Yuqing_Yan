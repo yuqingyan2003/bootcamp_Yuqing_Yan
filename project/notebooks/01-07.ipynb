{
 "cells": [
  {
   "cell_type": "markdown",
   "id": "7c3264f1",
   "metadata": {},
   "source": [
    "## Stage 01: Problem Framing & Scoping\n",
    "\n",
    "**Goal:** Enable individual investors to analyze and predict AAPL stock trends for 2023 using open data and reproducible analytics.\n",
    "\n",
    "**Data Dictionary:**\n",
    "- Date: Trading day\n",
    "- Open: Opening price\n",
    "- High: Highest price\n",
    "- Low: Lowest price\n",
    "- Close: Closing price\n",
    "- Adj Close: Adjusted closing price\n",
    "- Volume: Trading volume\n",
    "\n",
    "**Methodology:**\n",
    "- Acquire daily OHLCV data for AAPL (2023)\n",
    "- Clean, analyze, and model the data for trend detection and prediction"
   ]
  },
  {
   "cell_type": "markdown",
   "id": "e7a6d1ca",
   "metadata": {},
   "source": [
    "## Stage02: tooling_setup\n",
    "### Environment & Path Setup"
   ]
  },
  {
   "cell_type": "code",
   "execution_count": 6,
   "id": "fc81bc34",
   "metadata": {},
   "outputs": [
    {
     "name": "stdout",
     "output_type": "stream",
     "text": [
      "Checking for .env.example and .gitignore...\n",
      ".env.example exists: False\n",
      ".gitignore exists: True\n"
     ]
    }
   ],
   "source": [
    "\n",
    "import os\n",
    "import sys\n",
    "\n",
    "src_path = os.path.abspath(os.path.join(os.getcwd(), \"../src\"))\n",
    "if src_path not in sys.path:\n",
    "    sys.path.insert(0, src_path)\n",
    "\n",
    "# .env & .gitignore check\n",
    "print(\"Checking for .env.example and .gitignore...\")\n",
    "print(\".env.example exists:\", os.path.exists(\"../.env.example\"))\n",
    "print(\".gitignore exists:\", os.path.exists(\"../.gitignore\"))"
   ]
  },
  {
   "cell_type": "markdown",
   "id": "99d68010",
   "metadata": {},
   "source": [
    "## Stage03: python_fundamentals\n",
    "- Utility Function Demo"
   ]
  },
  {
   "cell_type": "code",
   "execution_count": 10,
   "id": "4f1992aa",
   "metadata": {},
   "outputs": [
    {
     "name": "stdout",
     "output_type": "stream",
     "text": [
      "Successfully imported parse_date_column from utils\n",
      "\n",
      "Original DataFrame:\n",
      "    date_str1   date_str2            date_str3  numeric_value\n",
      "0  2023-01-01  01/01/2023  2023-01-01 10:30:00            100\n",
      "1  2023-01-02  02/01/2023  2023-01-02 14:45:00            200\n",
      "2  2023-01-03  03/01/2023  2023-01-03 09:15:00            300\n",
      "\n",
      "Original dtypes:\n",
      "date_str1        object\n",
      "date_str2        object\n",
      "date_str3        object\n",
      "numeric_value     int64\n",
      "dtype: object\n",
      "\n",
      "After parsing all date columns:\n",
      "   date_str1  date_str2           date_str3  numeric_value\n",
      "0 2023-01-01 2023-01-01 2023-01-01 10:30:00            100\n",
      "1 2023-01-02 2023-02-01 2023-01-02 14:45:00            200\n",
      "2 2023-01-03 2023-03-01 2023-01-03 09:15:00            300\n",
      "\n",
      "Updated dtypes:\n",
      "date_str1        datetime64[ns]\n",
      "date_str2        datetime64[ns]\n",
      "date_str3        datetime64[ns]\n",
      "numeric_value             int64\n",
      "dtype: object\n",
      "\n",
      "\n",
      "Additional datetime operations:\n",
      "Column 'date_str1':\n",
      "  Earliest date: 2023-01-01 00:00:00\n",
      "  Latest date: 2023-01-03 00:00:00\n",
      "  Day of week for first date: Sunday\n",
      "\n",
      "Column 'date_str2':\n",
      "  Earliest date: 2023-01-01 00:00:00\n",
      "  Latest date: 2023-03-01 00:00:00\n",
      "  Day of week for first date: Sunday\n",
      "\n",
      "Column 'date_str3':\n",
      "  Earliest date: 2023-01-01 10:30:00\n",
      "  Latest date: 2023-01-03 09:15:00\n",
      "  Day of week for first date: Sunday\n",
      "\n"
     ]
    }
   ],
   "source": [
    "import pandas as pd\n",
    "import sys\n",
    "import os\n",
    "from datetime import datetime\n",
    "\n",
    "# Add src directory to Python path\n",
    "src_path = os.path.abspath(os.path.abspath(os.path.join(os.getcwd(), \"../src\")))\n",
    "if src_path not in sys.path:\n",
    "    sys.path.insert(0, src_path)\n",
    "\n",
    "# Import the utility function\n",
    "try:\n",
    "    from utils import parse_date_column\n",
    "    print(\"Successfully imported parse_date_column from utils\")\n",
    "except ImportError as e:\n",
    "    print(f\"Import error: {e}\")\n",
    "    # Create enhanced function for demonstration\n",
    "    def parse_date_column(df, column, date_format=None):\n",
    "        \"\"\"\n",
    "        Parse a column in a DataFrame to datetime with enhanced error handling.\n",
    "        Args:\n",
    "            df (pd.DataFrame): Input DataFrame\n",
    "            column (str): Column name to parse\n",
    "            date_format (str, optional): Custom date format\n",
    "        Returns:\n",
    "            pd.DataFrame: DataFrame with parsed date column\n",
    "        \"\"\"\n",
    "        df = df.copy()\n",
    "        # Try parsing with specified format first\n",
    "        if date_format:\n",
    "            df[column] = pd.to_datetime(df[column], format=date_format, errors='coerce')\n",
    "        else:\n",
    "            # Try multiple common date formats\n",
    "            df[column] = pd.to_datetime(df[column], errors='coerce')\n",
    "            \n",
    "            # If coercion resulted in NaT values, try inferring format\n",
    "            if df[column].isna().any():\n",
    "                print(f\"Warning: Some values in '{column}' could not be parsed with default method\")\n",
    "                \n",
    "        return df\n",
    "\n",
    "print()\n",
    "\n",
    "# Create example DataFrame with various date formats\n",
    "df = pd.DataFrame({\n",
    "    'date_str1': ['2023-01-01', '2023-01-02', '2023-01-03'],\n",
    "    'date_str2': ['01/01/2023', '02/01/2023', '03/01/2023'],  # Month/Day/Year format\n",
    "    'date_str3': ['2023-01-01 10:30:00', '2023-01-02 14:45:00', '2023-01-03 09:15:00'],\n",
    "    'numeric_value': [100, 200, 300]\n",
    "})\n",
    "\n",
    "print(\"Original DataFrame:\")\n",
    "print(df)\n",
    "print(\"\\nOriginal dtypes:\")\n",
    "print(df.dtypes)\n",
    "print()\n",
    "\n",
    "# Parse all date columns with appropriate formats\n",
    "df = parse_date_column(df, 'date_str1')  # ISO format (YYYY-MM-DD)\n",
    "df = parse_date_column(df, 'date_str2', '%m/%d/%Y')  # Month/Day/Year format\n",
    "df = parse_date_column(df, 'date_str3')  # ISO format with time\n",
    "\n",
    "print(\"After parsing all date columns:\")\n",
    "print(df)\n",
    "print(\"\\nUpdated dtypes:\")\n",
    "print(df.dtypes)\n",
    "print()\n",
    "\n",
    "# Check for any parsing errors\n",
    "date_columns = ['date_str1', 'date_str2', 'date_str3']\n",
    "for col in date_columns:\n",
    "    null_count = df[col].isna().sum()\n",
    "    if null_count > 0:\n",
    "        print(f\"Warning: {null_count} null values found in '{col}' after parsing\")\n",
    "\n",
    "print()\n",
    "\n",
    "# Show additional datetime operations\n",
    "print(\"Additional datetime operations:\")\n",
    "for col in date_columns:\n",
    "    if pd.api.types.is_datetime64_any_dtype(df[col]):\n",
    "        print(f\"Column '{col}':\")\n",
    "        print(f\"  Earliest date: {df[col].min()}\")\n",
    "        print(f\"  Latest date: {df[col].max()}\")\n",
    "        print(f\"  Day of week for first date: {df[col].iloc[0].strftime('%A')}\")\n",
    "        print()"
   ]
  },
  {
   "cell_type": "markdown",
   "id": "2575c0f5",
   "metadata": {},
   "source": [
    "## Stage04: Data Acquisition and Ingestion"
   ]
  },
  {
   "cell_type": "code",
   "execution_count": 11,
   "id": "5985578d",
   "metadata": {},
   "outputs": [
    {
     "name": "stderr",
     "output_type": "stream",
     "text": [
      "/Users/yuqingyan/Desktop/bootcamp_Yuqing_Yan/project/src/acquisition.py:15: FutureWarning: YF.download() has changed argument auto_adjust default to True\n",
      "  df = yf.download(ticker, start=start, end=end)\n",
      "[*********************100%***********************]  1 of 1 completed"
     ]
    },
    {
     "name": "stdout",
     "output_type": "stream",
     "text": [
      "Data fetched successfully. Shape: (250, 5)\n"
     ]
    },
    {
     "name": "stderr",
     "output_type": "stream",
     "text": [
      "\n"
     ]
    }
   ],
   "source": [
    "# yfinance Collector with Error Handling\n",
    "import os\n",
    "import sys\n",
    "src_path = os.path.abspath(os.path.join(os.getcwd(), \"../src\"))\n",
    "if src_path not in sys.path:\n",
    "    sys.path.insert(0, src_path)\n",
    "from acquisition import fetch_stock_data\n",
    "\n",
    "ticker = \"AAPL\"\n",
    "start = \"2023-01-01\"\n",
    "end = \"2023-12-31\"\n",
    "raw_path = \"../data/raw/aapl_2023.csv\"\n",
    "\n",
    "try:\n",
    "    df_raw = fetch_stock_data(ticker, start, end, raw_path)\n",
    "    print(\"Data fetched successfully. Shape:\", df_raw.shape)\n",
    "except Exception as e:\n",
    "    print(f\"Error fetching data: {e}\")"
   ]
  },
  {
   "cell_type": "markdown",
   "id": "8e0cee5e",
   "metadata": {},
   "source": [
    "## Stage05: Data Storage"
   ]
  },
  {
   "cell_type": "code",
   "execution_count": 12,
   "id": "c994d6ba",
   "metadata": {},
   "outputs": [
    {
     "name": "stdout",
     "output_type": "stream",
     "text": [
      "Raw data exists: True\n",
      "Processed data folder exists: True\n"
     ]
    }
   ],
   "source": [
    "# Data Storage Check\n",
    "import os\n",
    "\n",
    "print(\"Raw data exists:\", os.path.exists(\"../data/raw/aapl_2023.csv\"))\n",
    "print(\"Processed data folder exists:\", os.path.exists(\"../data/processed/\"))"
   ]
  },
  {
   "cell_type": "markdown",
   "id": "08b3db87",
   "metadata": {},
   "source": [
    "## Stage06: Data Cleaning & Preprocessing\n",
    "> Why drop columns before filling?\n",
    "> Dropping columns with excessive missingness (>50%) ensures we don’t impute too much, which could introduce bias or noise. Only after this do we fill remaining missing values, preserving as much real data as possible.\n",
    ">\n",
    "> Tradeoff:\n",
    "> Dropping columns may lose potentially useful information, but filling too many missing values can distort the data distribution. This approach balances data integrity and completeness.\n",
    ">\n",
    "> Comparison:\n",
    "> We compare missing value counts and distributions before and after each step to ensure transparency and to understand the impact of our cleaning choices."
   ]
  },
  {
   "cell_type": "code",
   "execution_count": 22,
   "id": "892d6d2a",
   "metadata": {},
   "outputs": [
    {
     "data": {
      "text/html": [
       "<div>\n",
       "<style scoped>\n",
       "    .dataframe tbody tr th:only-of-type {\n",
       "        vertical-align: middle;\n",
       "    }\n",
       "\n",
       "    .dataframe tbody tr th {\n",
       "        vertical-align: top;\n",
       "    }\n",
       "\n",
       "    .dataframe thead th {\n",
       "        text-align: right;\n",
       "    }\n",
       "</style>\n",
       "<table border=\"1\" class=\"dataframe\">\n",
       "  <thead>\n",
       "    <tr style=\"text-align: right;\">\n",
       "      <th></th>\n",
       "      <th>date</th>\n",
       "      <th>Close</th>\n",
       "      <th>High</th>\n",
       "      <th>Low</th>\n",
       "      <th>Open</th>\n",
       "      <th>Volume</th>\n",
       "    </tr>\n",
       "  </thead>\n",
       "  <tbody>\n",
       "    <tr>\n",
       "      <th>0</th>\n",
       "      <td>2023-01-03</td>\n",
       "      <td>123.330650</td>\n",
       "      <td>129.079567</td>\n",
       "      <td>122.443165</td>\n",
       "      <td>128.468194</td>\n",
       "      <td>112117500</td>\n",
       "    </tr>\n",
       "    <tr>\n",
       "      <th>1</th>\n",
       "      <td>2023-01-04</td>\n",
       "      <td>124.602707</td>\n",
       "      <td>126.870724</td>\n",
       "      <td>123.340509</td>\n",
       "      <td>125.125335</td>\n",
       "      <td>89113600</td>\n",
       "    </tr>\n",
       "    <tr>\n",
       "      <th>2</th>\n",
       "      <td>2023-01-05</td>\n",
       "      <td>123.281349</td>\n",
       "      <td>125.993105</td>\n",
       "      <td>123.024970</td>\n",
       "      <td>125.362006</td>\n",
       "      <td>80962700</td>\n",
       "    </tr>\n",
       "    <tr>\n",
       "      <th>3</th>\n",
       "      <td>2023-01-06</td>\n",
       "      <td>127.817352</td>\n",
       "      <td>128.478033</td>\n",
       "      <td>123.153137</td>\n",
       "      <td>124.257564</td>\n",
       "      <td>87754700</td>\n",
       "    </tr>\n",
       "    <tr>\n",
       "      <th>4</th>\n",
       "      <td>2023-01-09</td>\n",
       "      <td>128.339996</td>\n",
       "      <td>131.554669</td>\n",
       "      <td>128.083618</td>\n",
       "      <td>128.655553</td>\n",
       "      <td>70790800</td>\n",
       "    </tr>\n",
       "  </tbody>\n",
       "</table>\n",
       "</div>"
      ],
      "text/plain": [
       "         date       Close        High         Low        Open     Volume\n",
       "0  2023-01-03  123.330650  129.079567  122.443165  128.468194  112117500\n",
       "1  2023-01-04  124.602707  126.870724  123.340509  125.125335   89113600\n",
       "2  2023-01-05  123.281349  125.993105  123.024970  125.362006   80962700\n",
       "3  2023-01-06  127.817352  128.478033  123.153137  124.257564   87754700\n",
       "4  2023-01-09  128.339996  131.554669  128.083618  128.655553   70790800"
      ]
     },
     "execution_count": 22,
     "metadata": {},
     "output_type": "execute_result"
    }
   ],
   "source": [
    "import pandas as pd\n",
    "import sys, os\n",
    "import matplotlib.pyplot as plt\n",
    "import seaborn as sns\n",
    "\n",
    "# Ensure src is in the path\n",
    "src_path = os.path.abspath(os.path.join(os.getcwd(), \"../src\"))\n",
    "if src_path not in sys.path:\n",
    "    sys.path.insert(0, src_path)\n",
    "from utils import parse_date_column\n",
    "from cleaning import fill_missing_median, drop_missing, normalize_data\n",
    "\n",
    "raw_path = \"../data/raw/aapl_2023.csv\"\n",
    "header = pd.read_csv(raw_path, nrows=1)\n",
    "colnames = header.columns.tolist()\n",
    "\n",
    "df = pd.read_csv(raw_path, skiprows=3, header=None, names=colnames)\n",
    "df = df.rename(columns={\"Price\": \"date\"})\n",
    "\n",
    "df.head()"
   ]
  },
  {
   "cell_type": "code",
   "execution_count": null,
   "id": "1f7625ca",
   "metadata": {},
   "outputs": [
    {
     "name": "stdout",
     "output_type": "stream",
     "text": [
      "                 Close        High         Low        Open     Volume\n",
      "date                                                                 \n",
      "2023-01-03  123.330650  129.079567  122.443165  128.468194  112117500\n",
      "2023-01-04  124.602707  126.870724  123.340509  125.125335   89113600\n",
      "2023-01-05  123.281349  125.993105  123.024970  125.362006   80962700\n",
      "2023-01-06  127.817352  128.478033  123.153137  124.257564   87754700\n",
      "2023-01-09  128.339996  131.554669  128.083618  128.655553   70790800\n",
      "Close     float64\n",
      "High      float64\n",
      "Low       float64\n",
      "Open      float64\n",
      "Volume      int64\n",
      "dtype: object\n"
     ]
    }
   ],
   "source": [
    "df = parse_date_column(df, \"date\")\n",
    "df = df.set_index(\"date\")\n",
    "\n",
    "print(df.head())\n",
    "print(df.dtypes)"
   ]
  },
  {
   "cell_type": "code",
   "execution_count": 24,
   "id": "3949c188",
   "metadata": {},
   "outputs": [
    {
     "name": "stdout",
     "output_type": "stream",
     "text": [
      "Missing values before cleaning:\n",
      "Open      0\n",
      "High      0\n",
      "Low       0\n",
      "Close     0\n",
      "Volume    0\n",
      "dtype: int64\n",
      "\n",
      "Columns after dropping those with >50% missing values:\n",
      "Index(['Close', 'High', 'Low', 'Open', 'Volume'], dtype='object')\n",
      "\n",
      "Missing values after dropping columns:\n",
      "Open      0\n",
      "High      0\n",
      "Low       0\n",
      "Close     0\n",
      "Volume    0\n",
      "dtype: int64\n",
      "\n",
      "Missing values after median filling:\n",
      "Open      0\n",
      "High      0\n",
      "Low       0\n",
      "Close     0\n",
      "Volume    0\n",
      "dtype: int64\n"
     ]
    },
    {
     "data": {
      "image/png": "[encoded data removed]",
      "text/plain": [
       "<Figure size 1200x400 with 2 Axes>"
      ]
     },
     "metadata": {},
     "output_type": "display_data"
    },
    {
     "name": "stdout",
     "output_type": "stream",
     "text": [
      "\n",
      "Cleaned data saved. Shape: (250, 5)\n"
     ]
    }
   ],
   "source": [
    "num_cols = [\"Open\", \"High\", \"Low\", \"Close\", \"Volume\"]\n",
    "\n",
    "# 1. Show missing values before any cleaning\n",
    "print(\"Missing values before cleaning:\")\n",
    "print(df[num_cols].isnull().sum())\n",
    "\n",
    "# 2. Drop columns with too many missing values first\n",
    "df_dropped = drop_missing(df, threshold=0.5)\n",
    "print(\"\\nColumns after dropping those with >50% missing values:\")\n",
    "print(df_dropped.columns)\n",
    "\n",
    "# 3. Show missing values after dropping columns\n",
    "print(\"\\nMissing values after dropping columns:\")\n",
    "print(df_dropped[num_cols].isnull().sum())\n",
    "\n",
    "# 4. Fill missing values with median\n",
    "df_filled = fill_missing_median(df_dropped, num_cols)\n",
    "print(\"\\nMissing values after median filling:\")\n",
    "print(df_filled[num_cols].isnull().sum())\n",
    "\n",
    "# 5. Visual comparison: distribution before and after filling\n",
    "fig, axes = plt.subplots(1, 2, figsize=(12, 4))\n",
    "sns.histplot(df_dropped[\"Close\"], bins=20, kde=True, ax=axes[0], color=\"skyblue\")\n",
    "axes[0].set_title(\"Close Price Before Filling\")\n",
    "sns.histplot(df_filled[\"Close\"], bins=20, kde=True, ax=axes[1], color=\"lightgreen\")\n",
    "axes[1].set_title(\"Close Price After Filling\")\n",
    "plt.show()\n",
    "\n",
    "# 6. Normalize data\n",
    "df_clean = normalize_data(df_filled, num_cols)\n",
    "df_clean.to_csv(\"../data/processed/aapl_2023_cleaned.csv\", index=False)\n",
    "print(\"\\nCleaned data saved. Shape:\", df_clean.shape)"
   ]
  },
  {
   "cell_type": "markdown",
   "id": "4c05caa8",
   "metadata": {},
   "source": [
    "## Stage07: Outlier Detection & Analysis\n",
    "> Why handle outliers?\n",
    "> Outliers can skew statistical analysis and model training. We use the IQR method to flag and remove extreme values, which helps ensure our analysis reflects the typical behavior of the stock.\n",
    ">\n",
    "> Tradeoff:\n",
    "> Removing outliers may discard rare but real events (e.g., market shocks). However, for most modeling and trend analysis, focusing on the bulk of the data yields more robust results.\n",
    ">\n",
    "> Comparison:\n",
    "> We visualize the data before and after outlier removal to confirm the effect and to document any major changes in distribution.\n"
   ]
  },
  {
   "cell_type": "code",
   "execution_count": 25,
   "id": "8b82271b",
   "metadata": {},
   "outputs": [
    {
     "data": {
      "image/png": "[encoded data removed]",
      "text/plain": [
       "<Figure size 800x400 with 1 Axes>"
      ]
     },
     "metadata": {},
     "output_type": "display_data"
    },
    {
     "name": "stdout",
     "output_type": "stream",
     "text": [
      "Number of outliers in Close before handling: 0\n"
     ]
    },
    {
     "data": {
      "image/png": "[encoded data removed]",
      "text/plain": [
       "<Figure size 800x400 with 1 Axes>"
      ]
     },
     "metadata": {},
     "output_type": "display_data"
    },
    {
     "name": "stdout",
     "output_type": "stream",
     "text": [
      "Shape before outlier removal: (250, 5)\n",
      "Shape after outlier removal: (250, 5)\n"
     ]
    }
   ],
   "source": [
    "import pandas as pd\n",
    "import matplotlib.pyplot as plt\n",
    "import seaborn as sns\n",
    "\n",
    "df = pd.read_csv(\"../data/processed/aapl_2023_cleaned.csv\")\n",
    "col = \"Close\"\n",
    "\n",
    "# 1. Visualize outliers before handling\n",
    "plt.figure(figsize=(8, 4))\n",
    "sns.boxplot(x=df[col])\n",
    "plt.title(f\"Boxplot of {col} Before Outlier Handling\")\n",
    "plt.show()\n",
    "\n",
    "# 2. Detect outliers using IQR\n",
    "Q1 = df[col].quantile(0.25)\n",
    "Q3 = df[col].quantile(0.75)\n",
    "IQR = Q3 - Q1\n",
    "lower = Q1 - 1.5 * IQR\n",
    "upper = Q3 + 1.5 * IQR\n",
    "outliers = df[(df[col] < lower) | (df[col] > upper)]\n",
    "print(f\"Number of outliers in {col} before handling:\", outliers.shape[0])\n",
    "\n",
    "# 3. Remove outliers\n",
    "df_no_outliers = df[(df[col] >= lower) & (df[col] <= upper)]\n",
    "\n",
    "# 4. Visualize after outlier removal\n",
    "plt.figure(figsize=(8, 4))\n",
    "sns.boxplot(x=df_no_outliers[col])\n",
    "plt.title(f\"Boxplot of {col} After Outlier Removal\")\n",
    "plt.show()\n",
    "\n",
    "print(f\"Shape before outlier removal: {df.shape}\")\n",
    "print(f\"Shape after outlier removal: {df_no_outliers.shape}\")"
   ]
  },
  {
   "cell_type": "markdown",
   "id": "c33c21cb",
   "metadata": {},
   "source": []
  }
 ],
 "metadata": {
  "kernelspec": {
   "display_name": "bootcamp_env",
   "language": "python",
   "name": "python3"
  },
  "language_info": {
   "codemirror_mode": {
    "name": "ipython",
    "version": 3
   },
   "file_extension": ".py",
   "mimetype": "text/x-python",
   "name": "python",
   "nbconvert_exporter": "python",
   "pygments_lexer": "ipython3",
   "version": "3.10.18"
  }
 },
 "nbformat": 4,
 "nbformat_minor": 5
}
