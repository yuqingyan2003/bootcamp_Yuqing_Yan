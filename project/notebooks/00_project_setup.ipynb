{
 "cells": [
  {
   "cell_type": "markdown",
   "id": "64074ed9",
   "metadata": {},
   "source": [
    "## Environment & Config Check"
   ]
  },
  {
   "cell_type": "code",
   "execution_count": 12,
   "id": "7b285771",
   "metadata": {},
   "outputs": [],
   "source": [
    "import os\n",
    "import sys\n",
    "\n",
    "# Direct path to src folder\n",
    "src_path = os.path.abspath(os.path.join(os.getcwd(), \"../src\"))\n",
    "sys.path.insert(0, src_path)\n",
    "\n",
    "from config import load_env, get_key\n",
    "import numpy as np"
   ]
  },
  {
   "cell_type": "code",
   "execution_count": 13,
   "id": "3cfb41a4",
   "metadata": {},
   "outputs": [
    {
     "name": "stdout",
     "output_type": "stream",
     "text": [
      "API_KEY present: dumm..._123\n"
     ]
    }
   ],
   "source": [
    "try:\n",
    "    load_env()\n",
    "    api_key = get_key('API_KEY')\n",
    "    if api_key:\n",
    "        print(f\"API_KEY present: {api_key[:4]}...{api_key[-4:]}\")\n",
    "    else:\n",
    "        print(\"API_KEY not found in environment variables\")\n",
    "except Exception as e:\n",
    "    print(f\"Error loading environment: {str(e)}\")"
   ]
  },
  {
   "cell_type": "markdown",
   "id": "1973ae12",
   "metadata": {},
   "source": [
    "## NumPy demo with error handling"
   ]
  },
  {
   "cell_type": "code",
   "execution_count": 14,
   "id": "780c611e",
   "metadata": {},
   "outputs": [
    {
     "name": "stdout",
     "output_type": "stream",
     "text": [
      "Array: [1 2 3]\n",
      "Array squared: [1 4 9]\n",
      "Array sum: 6\n"
     ]
    }
   ],
   "source": [
    "try:\n",
    "    import numpy as np\n",
    "    arr = np.array([1, 2, 3])\n",
    "    print(f\"Array: {arr}\")\n",
    "    print(f\"Array squared: {arr ** 2}\")\n",
    "    print(f\"Array sum: {np.sum(arr)}\")\n",
    "except ImportError:\n",
    "    print(\"Error: NumPy not installed. Run 'pip install numpy'\")\n",
    "except Exception as e:\n",
    "    print(f\"Error in NumPy operation: {str(e)}\")"
   ]
  }
 ],
 "metadata": {
  "kernelspec": {
   "display_name": "bootcamp_env",
   "language": "python",
   "name": "python3"
  },
  "language_info": {
   "codemirror_mode": {
    "name": "ipython",
    "version": 3
   },
   "file_extension": ".py",
   "mimetype": "text/x-python",
   "name": "python",
   "nbconvert_exporter": "python",
   "pygments_lexer": "ipython3",
   "version": "3.10.18"
  }
 },
 "nbformat": 4,
 "nbformat_minor": 5
}
