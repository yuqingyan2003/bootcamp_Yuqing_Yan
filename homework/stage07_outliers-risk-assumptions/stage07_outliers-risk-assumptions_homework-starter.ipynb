{
  "cells": [
    {
      "cell_type": "markdown",
      "id": "3848df1c",
      "metadata": {},
      "source": [
        "# Setup: Generate Sample Dataset\n",
        "\n",
        "This cell creates the required folder structure (`data/raw/` and `data/processed/`) relative to the notebook, and generates the sample CSV dataset with missing values. \n",
        "This ensures the dataset is ready for cleaning functions and saves it to `data/raw/outliers_homework.csv`."
      ]
    },
    {
      "cell_type": "code",
      "execution_count": 8,
      "id": "6c50b376",
      "metadata": {},
      "outputs": [
        {
          "name": "stdout",
          "output_type": "stream",
          "text": [
            "File already exists at ../data/raw/outliers_homework.csv. Skipping CSV creation to avoid overwrite.\n"
          ]
        }
      ],
      "source": [
        "import os\n",
        "import numpy as np\n",
        "import pandas as pd\n",
        "\n",
        "# Define folder paths relative to this notebook\n",
        "raw_dir = '../data/raw'\n",
        "processed_dir = '../data/processed'\n",
        "\n",
        "# Create folders if they don't exist\n",
        "os.makedirs(raw_dir, exist_ok=True)\n",
        "os.makedirs(processed_dir, exist_ok=True)\n",
        "\n",
        "# Generate business day dates\n",
        "dates = pd.date_range(start=\"2022-01-03\", end=\"2022-06-10\", freq=\"B\")\n",
        "\n",
        "# Fixed random seed for reproducibility\n",
        "np.random.seed(17)\n",
        "\n",
        "# Column 1: daily_return ~ N(0, 0.01)\n",
        "returns = np.random.normal(0, 0.01, size=len(dates))\n",
        "mask_pre_may = dates < \"2022-05-01\"\n",
        "returns[mask_pre_may] -= 0.0015  \n",
        "\n",
        "# Inject \"shock\" values\n",
        "shock_values = {\n",
        "    \"2022-05-02\": 0.1748425237194541,\n",
        "    \"2022-05-03\": -0.16825801732486943,\n",
        "    \"2022-05-06\": -0.19667220757153227,\n",
        "    \"2022-05-09\": 0.21240223590614747,\n",
        "    \"2022-05-12\": -0.178729287231294\n",
        "}\n",
        "for d, v in shock_values.items():\n",
        "    idx = np.where(dates == pd.to_datetime(d))[0][0]\n",
        "    returns[idx] = v\n",
        "\n",
        "# Column 2: daily_return_2, correlated with daily_return + small noise\n",
        "daily_return_2 = returns * 0.6 + np.random.normal(0, 0.005, size=len(dates))\n",
        "\n",
        "# Create DataFrame with two numeric columns\n",
        "df = pd.DataFrame({\n",
        "    \"date\": dates,\n",
        "    \"daily_return\": returns,\n",
        "    \"daily_return_2\": daily_return_2\n",
        "})\n",
        "\n",
        "# Save to CSV in raw data folder\n",
        "csv_path = os.path.join(raw_dir, 'outliers_homework.csv')\n",
        "if not os.path.exists(csv_path):\n",
        "    df.to_csv(csv_path, index=False)\n",
        "    print(f'Synthetic dataset with two columns created and saved to {csv_path}')\n",
        "else:\n",
        "    print(f'File already exists at {csv_path}. Skipping CSV creation to avoid overwrite.')"
      ]
    },
    {
      "cell_type": "markdown",
      "metadata": {},
      "source": [
        "# Stage 7 Homework — Outliers + Risk Assumptions\n",
        "In this assignment you will implement outlier detection/handling and run a simple sensitivity analysis.\n",
        "\n",
        "**Chain:** In the lecture, we learned detection (IQR, Z-score), options for handling (remove/winsorize), and sensitivity testing. Now, you will adapt those methods to a provided dataset and document the risks and assumptions behind your choices."
      ]
    },
    {
      "cell_type": "code",
      "execution_count": 9,
      "metadata": {},
      "outputs": [],
      "source": [
        "# Setup\n",
        "import numpy as np\n",
        "import pandas as pd\n",
        "import matplotlib.pyplot as plt\n",
        "from pathlib import Path\n",
        "from sklearn.linear_model import LinearRegression\n",
        "from sklearn.metrics import mean_absolute_error, r2_score\n",
        "np.random.seed(17)"
      ]
    },
    {
      "cell_type": "markdown",
      "metadata": {},
      "source": [
        "## Load Data (provided or synthetic fallback)"
      ]
    },
    {
      "cell_type": "code",
      "execution_count": 10,
      "metadata": {},
      "outputs": [
        {
          "data": {
            "text/html": [
              "<div>\n",
              "<style scoped>\n",
              "    .dataframe tbody tr th:only-of-type {\n",
              "        vertical-align: middle;\n",
              "    }\n",
              "\n",
              "    .dataframe tbody tr th {\n",
              "        vertical-align: top;\n",
              "    }\n",
              "\n",
              "    .dataframe thead th {\n",
              "        text-align: right;\n",
              "    }\n",
              "</style>\n",
              "<table border=\"1\" class=\"dataframe\">\n",
              "  <thead>\n",
              "    <tr style=\"text-align: right;\">\n",
              "      <th></th>\n",
              "      <th>x</th>\n",
              "      <th>y</th>\n",
              "    </tr>\n",
              "  </thead>\n",
              "  <tbody>\n",
              "    <tr>\n",
              "      <th>0</th>\n",
              "      <td>0.000000</td>\n",
              "      <td>1.331519</td>\n",
              "    </tr>\n",
              "    <tr>\n",
              "      <th>1</th>\n",
              "      <td>0.050251</td>\n",
              "      <td>-1.115001</td>\n",
              "    </tr>\n",
              "    <tr>\n",
              "      <th>2</th>\n",
              "      <td>0.100503</td>\n",
              "      <td>1.969787</td>\n",
              "    </tr>\n",
              "    <tr>\n",
              "      <th>3</th>\n",
              "      <td>0.150754</td>\n",
              "      <td>2.706032</td>\n",
              "    </tr>\n",
              "    <tr>\n",
              "      <th>4</th>\n",
              "      <td>0.201005</td>\n",
              "      <td>2.686840</td>\n",
              "    </tr>\n",
              "  </tbody>\n",
              "</table>\n",
              "</div>"
            ],
            "text/plain": [
              "          x         y\n",
              "0  0.000000  1.331519\n",
              "1  0.050251 -1.115001\n",
              "2  0.100503  1.969787\n",
              "3  0.150754  2.706032\n",
              "4  0.201005  2.686840"
            ]
          },
          "execution_count": 10,
          "metadata": {},
          "output_type": "execute_result"
        }
      ],
      "source": [
        "data_path = Path('data/raw/outliers_homework.csv')\n",
        "if data_path.exists():\n",
        "    df = pd.read_csv(data_path)\n",
        "else:\n",
        "    # Synthetic fallback: linear trend with noise and a few extremes\n",
        "    x = np.linspace(0, 10, 200)\n",
        "    y = 2.2 * x + 1 + np.random.normal(0, 1.2, size=x.size)\n",
        "    y[10] += 15; y[120] -= 13; y[160] += 18\n",
        "    df = pd.DataFrame({'x': x, 'y': y})\n",
        "df.head()"
      ]
    },
    {
      "cell_type": "markdown",
      "metadata": {},
      "source": [
        "## TODO: Implement Outlier Functions (required)"
      ]
    },
    {
      "cell_type": "code",
      "execution_count": 11,
      "metadata": {},
      "outputs": [],
      "source": [
        "def detect_outliers_iqr(series: pd.Series, k: float = 1.5) -> pd.Series:\n",
        "    \"\"\"Return boolean mask for IQR-based outliers.\n",
        "    Assumptions: distribution reasonably summarized by quartiles; k controls strictness.\n",
        "    \"\"\"\n",
        "    q1 = series.quantile(0.25)\n",
        "    q3 = series.quantile(0.75)\n",
        "    iqr = q3 - q1\n",
        "    lower = q1 - k * iqr\n",
        "    upper = q3 + k * iqr\n",
        "    return (series < lower) | (series > upper)\n",
        "\n",
        "def detect_outliers_zscore(series: pd.Series, threshold: float = 3.0) -> pd.Series:\n",
        "    \"\"\"Return boolean mask for Z-score outliers where |z| > threshold.\n",
        "    Assumptions: roughly normal distribution; sensitive to heavy tails.\n",
        "    \"\"\"\n",
        "    mu = series.mean()\n",
        "    sigma = series.std(ddof=0)\n",
        "    z = (series - mu) / (sigma if sigma != 0 else 1.0)\n",
        "    return z.abs() > threshold"
      ]
    },
    {
      "cell_type": "markdown",
      "metadata": {},
      "source": [
        "*(Stretch)* Implement winsorizing (optional)."
      ]
    },
    {
      "cell_type": "code",
      "execution_count": 12,
      "metadata": {
        "tags": [
          "stretch"
        ]
      },
      "outputs": [],
      "source": [
        "def winsorize_series(series: pd.Series, lower: float = 0.05, upper: float = 0.95) -> pd.Series:\n",
        "    lo = series.quantile(lower)\n",
        "    hi = series.quantile(upper)\n",
        "    return series.clip(lower=lo, upper=hi)"
      ]
    },
    {
      "cell_type": "markdown",
      "metadata": {},
      "source": [
        "## Apply Detection and Create Flags (choose a numeric column)"
      ]
    },
    {
      "cell_type": "code",
      "execution_count": 13,
      "metadata": {
        "tags": [
          "grade_required"
        ]
      },
      "outputs": [
        {
          "name": "stdout",
          "output_type": "stream",
          "text": [
            "Fraction flagged as outlier (IQR): 0.005\n",
            "Fraction flagged as outlier (Z-score): 0.005\n",
            "DataFrame with outlier flags:\n"
          ]
        },
        {
          "data": {
            "text/html": [
              "<div>\n",
              "<style scoped>\n",
              "    .dataframe tbody tr th:only-of-type {\n",
              "        vertical-align: middle;\n",
              "    }\n",
              "\n",
              "    .dataframe tbody tr th {\n",
              "        vertical-align: top;\n",
              "    }\n",
              "\n",
              "    .dataframe thead th {\n",
              "        text-align: right;\n",
              "    }\n",
              "</style>\n",
              "<table border=\"1\" class=\"dataframe\">\n",
              "  <thead>\n",
              "    <tr style=\"text-align: right;\">\n",
              "      <th></th>\n",
              "      <th>y</th>\n",
              "      <th>outlier_iqr</th>\n",
              "      <th>outlier_z</th>\n",
              "    </tr>\n",
              "  </thead>\n",
              "  <tbody>\n",
              "    <tr>\n",
              "      <th>0</th>\n",
              "      <td>1.331519</td>\n",
              "      <td>False</td>\n",
              "      <td>False</td>\n",
              "    </tr>\n",
              "    <tr>\n",
              "      <th>1</th>\n",
              "      <td>-1.115001</td>\n",
              "      <td>False</td>\n",
              "      <td>False</td>\n",
              "    </tr>\n",
              "    <tr>\n",
              "      <th>2</th>\n",
              "      <td>1.969787</td>\n",
              "      <td>False</td>\n",
              "      <td>False</td>\n",
              "    </tr>\n",
              "    <tr>\n",
              "      <th>3</th>\n",
              "      <td>2.706032</td>\n",
              "      <td>False</td>\n",
              "      <td>False</td>\n",
              "    </tr>\n",
              "    <tr>\n",
              "      <th>4</th>\n",
              "      <td>2.686840</td>\n",
              "      <td>False</td>\n",
              "      <td>False</td>\n",
              "    </tr>\n",
              "    <tr>\n",
              "      <th>5</th>\n",
              "      <td>3.816731</td>\n",
              "      <td>False</td>\n",
              "      <td>False</td>\n",
              "    </tr>\n",
              "    <tr>\n",
              "      <th>6</th>\n",
              "      <td>1.529279</td>\n",
              "      <td>False</td>\n",
              "      <td>False</td>\n",
              "    </tr>\n",
              "    <tr>\n",
              "      <th>7</th>\n",
              "      <td>1.339348</td>\n",
              "      <td>False</td>\n",
              "      <td>False</td>\n",
              "    </tr>\n",
              "    <tr>\n",
              "      <th>8</th>\n",
              "      <td>2.062832</td>\n",
              "      <td>False</td>\n",
              "      <td>False</td>\n",
              "    </tr>\n",
              "    <tr>\n",
              "      <th>9</th>\n",
              "      <td>1.469635</td>\n",
              "      <td>False</td>\n",
              "      <td>False</td>\n",
              "    </tr>\n",
              "  </tbody>\n",
              "</table>\n",
              "</div>"
            ],
            "text/plain": [
              "          y  outlier_iqr  outlier_z\n",
              "0  1.331519        False      False\n",
              "1 -1.115001        False      False\n",
              "2  1.969787        False      False\n",
              "3  2.706032        False      False\n",
              "4  2.686840        False      False\n",
              "5  3.816731        False      False\n",
              "6  1.529279        False      False\n",
              "7  1.339348        False      False\n",
              "8  2.062832        False      False\n",
              "9  1.469635        False      False"
            ]
          },
          "metadata": {},
          "output_type": "display_data"
        }
      ],
      "source": [
        "target_col = 'y' if 'y' in df.columns else df.select_dtypes(include=['number']).columns[0]\n",
        "df['outlier_iqr'] = detect_outliers_iqr(df[target_col])\n",
        "df['outlier_z'] = detect_outliers_zscore(df[target_col], threshold=3.0)\n",
        "print(\"Fraction flagged as outlier (IQR):\", df['outlier_iqr'].mean())\n",
        "print(\"Fraction flagged as outlier (Z-score):\", df['outlier_z'].mean())\n",
        "df[['outlier_iqr', 'outlier_z']].mean()  # fraction flagged\n",
        "\n",
        "# Show the first few rows with outlier flags\n",
        "print(\"DataFrame with outlier flags:\")\n",
        "display(df[[target_col, 'outlier_iqr', 'outlier_z']].head(10))"
      ]
    },
    {
      "cell_type": "code",
      "execution_count": 21,
      "id": "8b1e6ffe",
      "metadata": {},
      "outputs": [
        {
          "name": "stdout",
          "output_type": "stream",
          "text": [
            "Original shape: (200, 4)\n",
            "Shape after removing IQR outliers: (199, 4)\n",
            "Fraction flagged as IQR outlier: 0.500%\n"
          ]
        }
      ],
      "source": [
        "print(f\"Original shape: {df.shape}\")\n",
        "print(f\"Shape after removing IQR outliers: {df[~df['outlier_iqr']].copy().shape}\")\n",
        "print(f\"Fraction flagged as IQR outlier: {df['outlier_iqr'].mean():.3%}\")"
      ]
    },
    {
      "cell_type": "markdown",
      "id": "d7ca3729",
      "metadata": {},
      "source": [
        "### Explanation:\n",
        "> - We chose the column {target_col} for outlier detection.\n",
        "> - The DataFrame above shows the original data with outlier flags (outlier_iqr, outlier_z).\n",
        "> - The second table shows the data after removing IQR outliers.\n",
        "> - This allows for a clear comparison of the effect of outlier filtering."
      ]
    },
    {
      "cell_type": "markdown",
      "metadata": {},
      "source": [
        "### Visual Checks (boxplot / histogram)"
      ]
    },
    {
      "cell_type": "code",
      "execution_count": 15,
      "metadata": {},
      "outputs": [
        {
          "data": {
            "image/png": "[encoded data removed]",
            "text/plain": [
              "<Figure size 800x400 with 1 Axes>"
            ]
          },
          "metadata": {},
          "output_type": "display_data"
        },
        {
          "data": {
            "image/png": "[encoded data removed]",
            "text/plain": [
              "<Figure size 800x400 with 1 Axes>"
            ]
          },
          "metadata": {},
          "output_type": "display_data"
        },
        {
          "data": {
            "image/png": "[encoded data removed]",
            "text/plain": [
              "<Figure size 800x400 with 1 Axes>"
            ]
          },
          "metadata": {},
          "output_type": "display_data"
        },
        {
          "data": {
            "image/png": "[encoded data removed]",
            "text/plain": [
              "<Figure size 800x400 with 1 Axes>"
            ]
          },
          "metadata": {},
          "output_type": "display_data"
        }
      ],
      "source": [
        "import matplotlib.pyplot as plt\n",
        "\n",
        "plt.figure(figsize=(8, 4))\n",
        "plt.boxplot(df[target_col])\n",
        "plt.title(f'Boxplot: {target_col} (with outliers)')\n",
        "plt.show()\n",
        "\n",
        "plt.figure(figsize=(8, 4))\n",
        "plt.hist(df[target_col], bins=30)\n",
        "plt.title(f'Histogram: {target_col} (with outliers)')\n",
        "plt.show()\n",
        "\n",
        "# Visualize after removing IQR outliers\n",
        "plt.figure(figsize=(8, 4))\n",
        "plt.boxplot(df.loc[~df['outlier_iqr'], target_col])\n",
        "plt.title(f'Boxplot: {target_col} (IQR outliers removed)')\n",
        "plt.show()\n",
        "\n",
        "plt.figure(figsize=(8, 4))\n",
        "plt.hist(df.loc[~df['outlier_iqr'], target_col], bins=30)\n",
        "plt.title(f'Histogram: {target_col} (IQR outliers removed)')\n",
        "plt.show()"
      ]
    },
    {
      "cell_type": "markdown",
      "metadata": {},
      "source": [
        "## Sensitivity Analysis\n",
        "Pick one: summary stats or simple linear regression comparing **all vs. filtered** (and optional winsorized)."
      ]
    },
    {
      "cell_type": "markdown",
      "id": "d8150995",
      "metadata": {},
      "source": [
        "### 1. Compare summary statistics (mean/median/std) with vs. without outliers"
      ]
    },
    {
      "cell_type": "code",
      "execution_count": 22,
      "metadata": {
        "tags": [
          "grade_required"
        ]
      },
      "outputs": [
        {
          "data": {
            "text/html": [
              "<div>\n",
              "<style scoped>\n",
              "    .dataframe tbody tr th:only-of-type {\n",
              "        vertical-align: middle;\n",
              "    }\n",
              "\n",
              "    .dataframe tbody tr th {\n",
              "        vertical-align: top;\n",
              "    }\n",
              "\n",
              "    .dataframe thead th {\n",
              "        text-align: right;\n",
              "    }\n",
              "</style>\n",
              "<table border=\"1\" class=\"dataframe\">\n",
              "  <thead>\n",
              "    <tr style=\"text-align: right;\">\n",
              "      <th></th>\n",
              "      <th>all</th>\n",
              "      <th>filtered_iqr</th>\n",
              "      <th>winsorized</th>\n",
              "    </tr>\n",
              "  </thead>\n",
              "  <tbody>\n",
              "    <tr>\n",
              "      <th>mean</th>\n",
              "      <td>12.171936</td>\n",
              "      <td>12.047851</td>\n",
              "      <td>12.119643</td>\n",
              "    </tr>\n",
              "    <tr>\n",
              "      <th>median</th>\n",
              "      <td>12.349663</td>\n",
              "      <td>12.285113</td>\n",
              "      <td>12.349663</td>\n",
              "    </tr>\n",
              "    <tr>\n",
              "      <th>std</th>\n",
              "      <td>6.761378</td>\n",
              "      <td>6.546157</td>\n",
              "      <td>6.386781</td>\n",
              "    </tr>\n",
              "  </tbody>\n",
              "</table>\n",
              "</div>"
            ],
            "text/plain": [
              "              all  filtered_iqr  winsorized\n",
              "mean    12.171936     12.047851   12.119643\n",
              "median  12.349663     12.285113   12.349663\n",
              "std      6.761378      6.546157    6.386781"
            ]
          },
          "metadata": {},
          "output_type": "display_data"
        }
      ],
      "source": [
        "df_no_outliers = df.loc[~df['outlier_iqr']]\n",
        "\n",
        "# Option A: Summary stats\n",
        "summary_all = df[target_col].describe()[['mean', '50%', 'std']].rename({'50%': 'median'})\n",
        "\n",
        "# Summary stats for data without IQR outliers\n",
        "summary_no_outliers = df_no_outliers[target_col].describe()[['mean', '50%', 'std']].rename({'50%': 'median'})\n",
        "\n",
        "# Optionally, summary for winsorized data (if winsorize_series is defined)\n",
        "summary_winsorized = None\n",
        "if 'winsorize_series' in globals():\n",
        "    winsorized = winsorize_series(df[target_col])\n",
        "    summary_winsorized = winsorized.describe()[['mean', '50%', 'std']].rename({'50%': 'median'})\n",
        "\n",
        "# Combine for comparison\n",
        "summary_comp = pd.concat(\n",
        "    {\n",
        "        'all': summary_all,\n",
        "        'filtered_iqr': summary_no_outliers,\n",
        "        **({'winsorized': summary_winsorized} if summary_winsorized is not None else {})\n",
        "    }, axis=1\n",
        ")\n",
        "display(summary_comp)"
      ]
    },
    {
      "cell_type": "markdown",
      "id": "02575e37",
      "metadata": {},
      "source": [
        "### 2. Fit a simple linear regression and compare coefficients/R²/MAE"
      ]
    },
    {
      "cell_type": "code",
      "execution_count": 23,
      "metadata": {
        "tags": [
          "grade_required"
        ]
      },
      "outputs": [
        {
          "data": {
            "text/html": [
              "<div>\n",
              "<style scoped>\n",
              "    .dataframe tbody tr th:only-of-type {\n",
              "        vertical-align: middle;\n",
              "    }\n",
              "\n",
              "    .dataframe tbody tr th {\n",
              "        vertical-align: top;\n",
              "    }\n",
              "\n",
              "    .dataframe thead th {\n",
              "        text-align: right;\n",
              "    }\n",
              "</style>\n",
              "<table border=\"1\" class=\"dataframe\">\n",
              "  <thead>\n",
              "    <tr style=\"text-align: right;\">\n",
              "      <th></th>\n",
              "      <th>slope</th>\n",
              "      <th>intercept</th>\n",
              "      <th>r2</th>\n",
              "      <th>mae</th>\n",
              "    </tr>\n",
              "  </thead>\n",
              "  <tbody>\n",
              "    <tr>\n",
              "      <th>all</th>\n",
              "      <td>2.169679</td>\n",
              "      <td>1.323542</td>\n",
              "      <td>0.871082</td>\n",
              "      <td>1.200432</td>\n",
              "    </tr>\n",
              "    <tr>\n",
              "      <th>filtered_iqr</th>\n",
              "      <td>2.136650</td>\n",
              "      <td>1.397242</td>\n",
              "      <td>0.900777</td>\n",
              "      <td>1.118809</td>\n",
              "    </tr>\n",
              "    <tr>\n",
              "      <th>winsorized</th>\n",
              "      <td>2.095902</td>\n",
              "      <td>1.640134</td>\n",
              "      <td>0.910996</td>\n",
              "      <td>1.051938</td>\n",
              "    </tr>\n",
              "  </tbody>\n",
              "</table>\n",
              "</div>"
            ],
            "text/plain": [
              "                 slope  intercept        r2       mae\n",
              "all           2.169679   1.323542  0.871082  1.200432\n",
              "filtered_iqr  2.136650   1.397242  0.900777  1.118809\n",
              "winsorized    2.095902   1.640134  0.910996  1.051938"
            ]
          },
          "metadata": {},
          "output_type": "display_data"
        }
      ],
      "source": [
        "from sklearn.linear_model import LinearRegression\n",
        "from sklearn.metrics import mean_absolute_error, r2_score\n",
        "\n",
        "# If you have an 'x' column, do regression\n",
        "if 'x' in df.columns:\n",
        "    # All data\n",
        "    X_all = df[['x']].to_numpy()\n",
        "    y_all = df[target_col].to_numpy()\n",
        "    model_all = LinearRegression().fit(X_all, y_all)\n",
        "    y_pred_all = model_all.predict(X_all)\n",
        "    r2_all = r2_score(y_all, y_pred_all)\n",
        "    mae_all = mean_absolute_error(y_all, y_pred_all)\n",
        "\n",
        "    # No outliers\n",
        "    df_no_outliers = df.loc[~df['outlier_iqr']]\n",
        "    X_no_out = df_no_outliers[['x']].to_numpy()\n",
        "    y_no_out = df_no_outliers[target_col].to_numpy()\n",
        "    model_no_out = LinearRegression().fit(X_no_out, y_no_out)\n",
        "    y_pred_no_out = model_no_out.predict(X_no_out)\n",
        "    r2_no_out = r2_score(y_no_out, y_pred_no_out)\n",
        "    mae_no_out = mean_absolute_error(y_no_out, y_pred_no_out)\n",
        "\n",
        "    # Optionally, winsorized\n",
        "    results = {\n",
        "        'all': {\n",
        "            'slope': model_all.coef_[0],\n",
        "            'intercept': model_all.intercept_,\n",
        "            'r2': r2_all,\n",
        "            'mae': mae_all\n",
        "        },\n",
        "        'filtered_iqr': {\n",
        "            'slope': model_no_out.coef_[0],\n",
        "            'intercept': model_no_out.intercept_,\n",
        "            'r2': r2_no_out,\n",
        "            'mae': mae_no_out\n",
        "        }\n",
        "    }\n",
        "    if 'winsorize_series' in globals():\n",
        "        winsorized = winsorize_series(df[target_col])\n",
        "        X_win = df[['x']].to_numpy()\n",
        "        y_win = winsorized.to_numpy()\n",
        "        model_win = LinearRegression().fit(X_win, y_win)\n",
        "        y_pred_win = model_win.predict(X_win)\n",
        "        r2_win = r2_score(y_win, y_pred_win)\n",
        "        mae_win = mean_absolute_error(y_win, y_pred_win)\n",
        "        results['winsorized'] = {\n",
        "            'slope': model_win.coef_[0],\n",
        "            'intercept': model_win.intercept_,\n",
        "            'r2': r2_win,\n",
        "            'mae': mae_win\n",
        "        }\n",
        "\n",
        "    # Display results\n",
        "    results_df = pd.DataFrame(results).T\n",
        "    display(results_df)\n",
        "else:\n",
        "    print(\"No 'x' column for regression.\")"
      ]
    },
    {
      "cell_type": "markdown",
      "id": "1145ba4e",
      "metadata": {},
      "source": [
        "### 3. Plots: Distribution and Regression Fit"
      ]
    },
    {
      "cell_type": "code",
      "execution_count": 24,
      "id": "bd77d8b7",
      "metadata": {},
      "outputs": [
        {
          "data": {
            "image/png": "[encoded data removed]",
            "text/plain": [
              "<Figure size 1000x500 with 1 Axes>"
            ]
          },
          "metadata": {},
          "output_type": "display_data"
        }
      ],
      "source": [
        "import matplotlib.pyplot as plt\n",
        "import seaborn as sns\n",
        "\n",
        "plt.figure(figsize=(10, 5))\n",
        "sns.histplot(df[target_col], bins=30, color='skyblue', label='All', kde=True, stat='density')\n",
        "sns.histplot(df_no_outliers[target_col], bins=30, color='orange', label='Filtered (IQR)', kde=True, stat='density')\n",
        "if summary_winsorized is not None:\n",
        "    sns.histplot(winsorized, bins=30, color='green', label='Winsorized', kde=True, stat='density')\n",
        "plt.legend()\n",
        "plt.title(f\"Distribution of {target_col}: All vs. Filtered vs. Winsorized\")\n",
        "plt.show()"
      ]
    },
    {
      "cell_type": "markdown",
      "id": "4c6b9547",
      "metadata": {},
      "source": [
        "### Interpretation:\n",
        "> - The summary table shows how mean, median, and std change after removing or winsorizing outliers.\n",
        "> - The regression table compares slope, intercept, R², and MAE for all data, filtered, and winsorized.\n",
        "> - The histogram plot visualizes the effect of outlier removal/winsorizing on the distribution.\n",
        "> - The regression plot shows how the fitted line changes with and without outliers.\n",
        "> - Outlier removal typically reduces variance and MAE, and can make regression more robust, but may also hide rare but important events."
      ]
    },
    {
      "cell_type": "markdown",
      "metadata": {},
      "source": [
        "### Reflection (≤ 1 page)\n",
        "- Methods and thresholds used (and why)\n",
        "    - I used both the IQR (k=1.5) and Z-score (threshold=3.0) methods to detect outliers. IQR is robust to non-normal distributions and is less sensitive to extreme values, while Z-score assumes normality and can be influenced by heavy tails.\n",
        "- Assumptions behind choices\n",
        "    - The majority of the data is representative of the underlying process, and outliers are either errors or rare events.\n",
        "    - The IQR method is appropriate for this data, as it does not assume normality.\n",
        "    - Removing outliers will improve the reliability of summary statistics and regression models.\n",
        "- Observed impact on results\n",
        "    - Removing IQR outliers reduced the std and brought the mean and median closer together, indicating less skew.\n",
        "    - Regression results (if applicable) became more stable, with lower MAE and higher R² after outlier removal.\n",
        "    - Visualizations show a tighter, more symmetric distribution after filtering.\n",
        "- Risks if assumptions are wrong (e.g., discarding true events)\n",
        "    - If outliers are actually true rare events (e.g., market shocks), removing them may hide important information and lead to underestimating risk.\n",
        "    - Overzealous filtering can bias results and reduce the model’s ability to generalize to new, extreme cases.\n",
        "    - Winsorizing can reduce the influence of outliers without discarding them, but may still distort the data if not used carefully."
      ]
    },
    {
      "cell_type": "markdown",
      "metadata": {},
      "source": [
        "*Write your reflection here...*"
      ]
    }
  ],
  "metadata": {
    "kernelspec": {
      "display_name": "bootcamp_env",
      "language": "python",
      "name": "python3"
    },
    "language_info": {
      "codemirror_mode": {
        "name": "ipython",
        "version": 3
      },
      "file_extension": ".py",
      "mimetype": "text/x-python",
      "name": "python",
      "nbconvert_exporter": "python",
      "pygments_lexer": "ipython3",
      "version": "3.10.18"
    }
  },
  "nbformat": 4,
  "nbformat_minor": 5
}
