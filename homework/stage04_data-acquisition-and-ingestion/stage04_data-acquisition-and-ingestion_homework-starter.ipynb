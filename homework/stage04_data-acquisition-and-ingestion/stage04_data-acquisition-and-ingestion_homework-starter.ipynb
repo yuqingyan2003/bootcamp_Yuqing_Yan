{
 "cells": [
  {
   "cell_type": "markdown",
   "metadata": {},
   "source": [
    "# Homework Starter — Stage 04: Data Acquisition and Ingestion\n",
    "Name:Yuqing Yan\n",
    "Date: 08/17/2025\n",
    "\n",
    "## Objectives\n",
    "- API ingestion with secrets in `.env`\n",
    "- Scrape a permitted public table\n",
    "- Validate and save raw data to `data/raw/`"
   ]
  },
  {
   "cell_type": "code",
   "execution_count": 5,
   "metadata": {},
   "outputs": [
    {
     "name": "stdout",
     "output_type": "stream",
     "text": [
      "ALPHAVANTAGE_API_KEY loaded? True\n"
     ]
    }
   ],
   "source": [
    "import os, pathlib, datetime as dt\n",
    "import requests\n",
    "import pandas as pd\n",
    "from bs4 import BeautifulSoup\n",
    "from dotenv import load_dotenv\n",
    "\n",
    "RAW = pathlib.Path('data/raw')\n",
    "RAW.mkdir(parents=True, exist_ok=True)\n",
    "load_dotenv()\n",
    "print('ALPHAVANTAGE_API_KEY loaded?', bool(os.getenv('ALPHAVANTAGE_API_KEY')))"
   ]
  },
  {
   "cell_type": "markdown",
   "metadata": {},
   "source": [
    "## Helpers (use or modify)"
   ]
  },
  {
   "cell_type": "code",
   "execution_count": 6,
   "metadata": {},
   "outputs": [],
   "source": [
    "def ts():\n",
    "    return dt.datetime.now().strftime('%Y%m%d-%H%M%S')\n",
    "\n",
    "def save_csv(df: pd.DataFrame, prefix: str, **meta):\n",
    "    mid = '_'.join([f\"{k}-{v}\" for k,v in meta.items()])\n",
    "    path = RAW / f\"{prefix}_{mid}_{ts()}.csv\"\n",
    "    df.to_csv(path, index=False)\n",
    "    print('Saved', path)\n",
    "    return path\n",
    "\n",
    "def validate(df: pd.DataFrame, required):\n",
    "    missing = [c for c in required if c not in df.columns]\n",
    "    return {'missing': missing, 'shape': df.shape, 'na_total': int(df.isna().sum().sum())}"
   ]
  },
  {
   "cell_type": "markdown",
   "metadata": {},
   "source": [
    "## Part 1 — API Pull (Required)\n",
    "Choose an endpoint (e.g., Alpha Vantage or use `yfinance` fallback)."
   ]
  },
  {
   "cell_type": "code",
   "execution_count": 11,
   "id": "4b207b44",
   "metadata": {},
   "outputs": [
    {
     "name": "stdout",
     "output_type": "stream",
     "text": [
      "API data validation: {'missing': [], 'shape': (100, 2), 'na_total': 0}\n",
      "Saved data/raw/api_source-alpha_symbol-AAPL_20250817-133104.csv\n"
     ]
    }
   ],
   "source": [
    "# --- Part 1 API Pull ---\n",
    "import os\n",
    "from dotenv import load_dotenv\n",
    "\n",
    "load_dotenv()\n",
    "API_KEY = os.getenv('ALPHAVANTAGE_API_KEY')\n",
    "USE_ALPHA = bool(API_KEY)  # Determine if we should use Alpha Vantage\n",
    "SYMBOL = 'AAPL'\n",
    "\n",
    "def fetch_alpha_vantage_data(symbol, api_key):\n",
    "    \"\"\"Fetch stock data from Alpha Vantage API\"\"\"\n",
    "    url = \"https://www.alphavantage.co/query\"\n",
    "    params = {\n",
    "        \"function\": \"TIME_SERIES_DAILY\",\n",
    "        \"symbol\": symbol,\n",
    "        \"outputsize\": \"compact\",\n",
    "        \"apikey\": api_key,\n",
    "        \"datatype\": \"json\"\n",
    "    }\n",
    "    \n",
    "    try:\n",
    "        # Make API request\n",
    "        response = requests.get(url, params=params, timeout=10)\n",
    "        response.raise_for_status()\n",
    "        data = response.json()\n",
    "        \n",
    "        # Check for API errors\n",
    "        if \"Error Message\" in data:\n",
    "            raise ValueError(f\"API Error: {data['Error Message']}\")\n",
    "        if \"Note\" in data:  # Free API limit message\n",
    "            raise ValueError(f\"API Limit: {data['Note']}\")\n",
    "        \n",
    "        # Dynamically find the time series key\n",
    "        time_series_key = next((k for k in data.keys() if \"Time Series\" in k), None)\n",
    "        if not time_series_key:\n",
    "            raise ValueError(\"Time series data not found\")\n",
    "            \n",
    "        # Convert to DataFrame\n",
    "        df = pd.DataFrame.from_dict(data[time_series_key], orient=\"index\")\n",
    "        df = df.reset_index().rename(columns={\"index\": \"date\"})\n",
    "        \n",
    "        # Clean column names (convert \"1. open\" to \"open\")\n",
    "        df.columns = [col.split(\".\")[-1].strip() for col in df.columns]\n",
    "        \n",
    "        df[\"date\"] = pd.to_datetime(df[\"date\"])\n",
    "        numeric_cols = [\"open\", \"high\", \"low\", \"close\", \"volume\"]\n",
    "        df[numeric_cols] = df[numeric_cols].apply(pd.to_numeric, errors=\"coerce\")\n",
    "\n",
    "        return df[['date', 'close']].rename(columns={'close': 'adj_close'})\n",
    "    \n",
    "    except Exception as e:\n",
    "        print(f\"Alpha Vantage request failed: {str(e)}\")\n",
    "        return None\n",
    "\n",
    "# Fetch data from Alpha Vantage or fallback to yfinance\n",
    "if USE_ALPHA:\n",
    "    df_api = fetch_alpha_vantage_data(SYMBOL, API_KEY)\n",
    "else:\n",
    "    df_api = None\n",
    "\n",
    "if df_api is None or df_api.empty:\n",
    "    print(\"Using yfinance fallback...\")\n",
    "    try:\n",
    "        import yfinance as yf\n",
    "        df_api = yf.download(SYMBOL, period='3mo', progress=False).reset_index()[['Date', 'Adj Close']]\n",
    "        df_api.columns = ['date', 'adj_close']\n",
    "    except Exception as e:\n",
    "        print(f\"yfinance failed: {str(e)}\")\n",
    "        df_api = pd.DataFrame({\"date\": [pd.Timestamp.now()], \"adj_close\": [0]})  # Final fallback\n",
    "\n",
    "# Validate and save data\n",
    "v_api = validate(df_api, ['date', 'adj_close'])\n",
    "print(\"API data validation:\", v_api)\n",
    "\n",
    "_ = save_csv(df_api.sort_values('date'), prefix='api', source='alpha' if USE_ALPHA else 'yfinance', symbol=SYMBOL)"
   ]
  },
  {
   "cell_type": "markdown",
   "metadata": {},
   "source": [
    "## Part 2 — Scrape a Public Table (Required)\n",
    "Replace `SCRAPE_URL` with a permitted page containing a simple table."
   ]
  },
  {
   "cell_type": "code",
   "execution_count": 14,
   "metadata": {},
   "outputs": [
    {
     "name": "stdout",
     "output_type": "stream",
     "text": [
      "Scraped data validation: {'missing': [], 'shape': (503, 8), 'na_total': 0}\n"
     ]
    }
   ],
   "source": [
    "SCRAPE_URL = 'https://en.wikipedia.org/wiki/List_of_S%26P_500_companies'\n",
    "headers = {'User-Agent':'AFE-Homework/1.0'}\n",
    "\n",
    "try:\n",
    "    # Fetch Website\n",
    "    resp = requests.get(SCRAPE_URL, headers=headers, timeout=30)\n",
    "    resp.raise_for_status()\n",
    "\n",
    "    # Parse HTML\n",
    "    soup = BeautifulSoup(resp.text, 'html.parser')\n",
    "\n",
    "    # Find the first table (S&P 500 constituents)\n",
    "    table = soup.find('table', {'class': 'wikitable'})\n",
    "\n",
    "    # Extract headers\n",
    "    headers = [th.get_text(strip=True) for th in table.find_all('th')]\n",
    "\n",
    "    # Extract data rows\n",
    "    rows = []\n",
    "    for tr in table.find_all('tr')[1:]:  # Skip header row\n",
    "        rows.append([td.get_text(strip=True) for td in tr.find_all('td')])\n",
    "    \n",
    "    # Create DataFrame\n",
    "    df_scrape = pd.DataFrame(rows, columns=headers[:len(rows[0])])\n",
    "    \n",
    "    # Clean column names\n",
    "    df_scrape.columns = [col.replace(' ', '_').lower() for col in df_scrape.columns]\n",
    "\n",
    "except Exception as e:\n",
    "    print('Scrape failed, using inline demo table:', e)\n",
    "    # Fallback to simple table\n",
    "    html = '''<table>\n",
    "        <tr><th>Ticker</th><th>Company</th><th>Sector</th></tr>\n",
    "        <tr><td>AAPL</td><td>Apple Inc.</td><td>Information Technology</td></tr>\n",
    "        <tr><td>MSFT</td><td>Microsoft</td><td>Information Technology</td></tr>\n",
    "    </table>'''\n",
    "\n",
    "    soup = BeautifulSoup(html, 'html.parser')\n",
    "    rows = [[c.get_text(strip=True) for c in tr.find_all(['th','td'])] for tr in soup.find_all('tr')]\n",
    "    header, *data = [r for r in rows if r]\n",
    "    df_scrape = pd.DataFrame(data, columns=header)\n",
    "\n",
    "if 'Price' in df_scrape.columns:\n",
    "    df_scrape['Price'] = pd.to_numeric(df_scrape['Price'], errors='coerce')\n",
    "v_scrape = validate(df_scrape, list(df_scrape.columns))\n",
    "print(\"Scraped data validation:\", v_scrape)"
   ]
  },
  {
   "cell_type": "code",
   "execution_count": 15,
   "metadata": {},
   "outputs": [
    {
     "name": "stdout",
     "output_type": "stream",
     "text": [
      "Saved data/raw/scrape_site-wikipedia_table-sp500_20250817-133748.csv\n"
     ]
    }
   ],
   "source": [
    "_ = save_csv(df_scrape, prefix='scrape', site='wikipedia', table='sp500')"
   ]
  },
  {
   "cell_type": "markdown",
   "metadata": {},
   "source": [
    "## Documentation\n",
    "\n",
    "### API Source\n",
    "- **Service Provider**: Alpha Vantage (primary) / Yahoo Finance (fallback)\n",
    "- **Base URL**: `https://www.alphavantage.co/query`\n",
    "- **Endpoint**: `TIME_SERIES_DAILY`\n",
    "- **Parameters**:\n",
    "  - `function=TIME_SERIES_DAILY` (daily adjusted prices)\n",
    "  - `symbol=AAPL` (Apple Inc. stock)\n",
    "  - `outputsize=compact` (last 100 data points)\n",
    "  - `apikey=...` (loaded from .env)\n",
    "- **Fallback**: yfinance `yf.download()` with 3-month daily data\n",
    "- **Validation Logic**:\n",
    "  - Checks for required columns: `date` and `adj_close`\n",
    "  - Validates date formatting and numeric values\n",
    "  - Records missing values and dataset shape\n",
    "\n",
    "### Scrape Source\n",
    "- **URL**: `https://en.wikipedia.org/wiki/List_of_S%26P_500_companies`\n",
    "- **Table Description**: Current S&P 500 constituents with:\n",
    "  - Ticker symbols\n",
    "  - Company names\n",
    "  - GICS sectors\n",
    "  - Headquarters locations\n",
    "- **Selector**: First table with class `wikitable`\n",
    "- **Fallback**: Embedded minimal table with AAPL/MSFT examples\n",
    "- **Validation Logic**:\n",
    "  - Checks all scraped columns exist\n",
    "  - Validates no empty rows\n",
    "  - Ensures ticker symbols are present\n",
    "\n",
    "### Assumptions & Risks\n",
    "**API**:\n",
    "1. Rate Limits:\n",
    "   - Alpha Vantage: 5 requests/minute, 500/day (free tier)\n",
    "   - yfinance: No strict limits but may throttle\n",
    "2. Schema Stability:\n",
    "   - Alpha Vantage JSON structure may change\n",
    "   - Column naming conventions may vary\n",
    "3. Data Quality:\n",
    "   - Markets closed days will be missing\n",
    "   - Adjusted prices may change retrospectively\n",
    "\n",
    "**Scraping**:\n",
    "1. Page Structure:\n",
    "   - Wikipedia table class (`wikitable`) may change\n",
    "   - Column order/headers might be modified\n",
    "2. Legal:\n",
    "   - Wikipedia allows scraping with proper User-Agent\n",
    "   - Heavy scraping may lead to IP blocking\n",
    "3. Data Consistency:\n",
    "   - Company names may include special characters\n",
    "   - Some cells may contain footnotes\n",
    "\n",
    "### Environment & Reproducibility\n",
    "- **`.env` Status**: Confirmed not committed (in `.gitignore`)\n",
    "- **Filename Convention**:\n",
    "- API: `api_source-[alpha|yfinance]_symbol-[SYMBOL]_[TIMESTAMP].csv`\n",
    "- Scrape: `scrape_site-[SOURCE]_table-[NAME]_[TIMESTAMP].csv`\n",
    "\n",
    "### Validation Summary\n",
    "```python\n",
    "print(\"API Data Validation:\", v_api)\n",
    "print(\"Scraped Data Validation:\", v_scrape)"
   ]
  },
  {
   "cell_type": "markdown",
   "id": "c3f84b75",
   "metadata": {},
   "source": []
  }
 ],
 "metadata": {
  "kernelspec": {
   "display_name": "bootcamp_env",
   "language": "python",
   "name": "python3"
  },
  "language_info": {
   "codemirror_mode": {
    "name": "ipython",
    "version": 3
   },
   "file_extension": ".py",
   "mimetype": "text/x-python",
   "name": "python",
   "nbconvert_exporter": "python",
   "pygments_lexer": "ipython3",
   "version": "3.10.18"
  }
 },
 "nbformat": 4,
 "nbformat_minor": 5
}
