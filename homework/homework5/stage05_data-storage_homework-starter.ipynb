{
 "cells": [
  {
   "cell_type": "markdown",
   "metadata": {},
   "source": [
    "# Homework Starter — Stage 05: Data Storage\n",
    "Name: Yuqing Yan\n",
    "Date: 08/17/2025\n",
    "\n",
    "Objectives:\n",
    "- Env-driven paths to `data/raw/` and `data/processed/`\n",
    "- Save CSV and Parquet; reload and validate\n",
    "- Abstract IO with utility functions; document choices"
   ]
  },
  {
   "cell_type": "code",
   "execution_count": 1,
   "metadata": {},
   "outputs": [
    {
     "name": "stdout",
     "output_type": "stream",
     "text": [
      "RAW -> /Users/yuqingyan/Desktop/bootcamp_Yuqing_Yan/homework/homework5/data/raw\n",
      "PROC -> /Users/yuqingyan/Desktop/bootcamp_Yuqing_Yan/homework/homework5/data/processed\n"
     ]
    }
   ],
   "source": [
    "import os, pathlib, datetime as dt\n",
    "import pandas as pd\n",
    "import numpy as np\n",
    "from dotenv import load_dotenv\n",
    "\n",
    "# 1. Initialize environment paths\n",
    "load_dotenv()\n",
    "RAW = pathlib.Path(os.getenv('DATA_DIR_RAW', 'data/raw'))\n",
    "PROC = pathlib.Path(os.getenv('DATA_DIR_PROCESSED', 'data/processed'))\n",
    "RAW.mkdir(parents=True, exist_ok=True)\n",
    "PROC.mkdir(parents=True, exist_ok=True)\n",
    "print('RAW ->', RAW.resolve())\n",
    "print('PROC ->', PROC.resolve())"
   ]
  },
  {
   "cell_type": "markdown",
   "metadata": {},
   "source": [
    "## 1) Create or Load a Sample DataFrame\n",
    "You may reuse data from prior stages or create a small synthetic dataset."
   ]
  },
  {
   "cell_type": "code",
   "execution_count": 4,
   "metadata": {},
   "outputs": [
    {
     "name": "stdout",
     "output_type": "stream",
     "text": [
      "\n",
      "Sample DataFrame:\n",
      "        date ticker   price  volume\n",
      "0 2024-01-01   AAPL  150.50   15311\n",
      "1 2024-01-02   AAPL  150.36   47819\n",
      "2 2024-01-03   AAPL  151.01   49188\n",
      "3 2024-01-04   AAPL  152.53   27568\n",
      "4 2024-01-05   AAPL  152.30   29769\n"
     ]
    }
   ],
   "source": [
    "# 2. Create sample DataFrame\n",
    "def create_sample_data():\n",
    "    np.random.seed(42)\n",
    "    dates = pd.date_range('2024-01-01', periods=10, freq='D')\n",
    "    return pd.DataFrame({\n",
    "        'date': dates,\n",
    "        'ticker': ['AAPL']*5 + ['MSFT']*5,\n",
    "        'price': np.round(150 + np.random.randn(10).cumsum(), 2),\n",
    "        'volume': np.random.randint(10000, 50000, 10)\n",
    "    })\n",
    "\n",
    "df = create_sample_data()\n",
    "print(\"\\nSample DataFrame:\")\n",
    "print(df.head())"
   ]
  },
  {
   "cell_type": "markdown",
   "metadata": {},
   "source": [
    "## 2) Save CSV to data/raw/ and Parquet to data/processed\n",
    "- Use timestamped filenames.\n",
    "- Handle missing Parquet engine gracefully."
   ]
  },
  {
   "cell_type": "code",
   "execution_count": 5,
   "metadata": {},
   "outputs": [
    {
     "name": "stdout",
     "output_type": "stream",
     "text": [
      "\n",
      "Saved CSV to: data/raw/stock_data_20250817_135352.csv\n",
      "Saved Parquet to: data/processed/stock_data_20250817_135352.parquet\n"
     ]
    },
    {
     "data": {
      "text/plain": [
       "PosixPath('data/processed/stock_data_20250817_135352.parquet')"
      ]
     },
     "execution_count": 5,
     "metadata": {},
     "output_type": "execute_result"
    }
   ],
   "source": [
    "# 3. Save in both formats\n",
    "def get_timestamp():\n",
    "    return dt.datetime.now().strftime('%Y%m%d_%H%M%S')\n",
    "\n",
    "# Save CSV to raw\n",
    "csv_filename = f\"stock_data_{get_timestamp()}.csv\"\n",
    "csv_path = RAW / csv_filename\n",
    "df.to_csv(csv_path, index=False)\n",
    "print(f\"\\nSaved CSV to: {csv_path}\")\n",
    "\n",
    "# Save Parquet to processed\n",
    "pq_filename = f\"stock_data_{get_timestamp()}.parquet\"\n",
    "pq_path = PROC / pq_filename\n",
    "try:\n",
    "    df.to_parquet(pq_path, engine='pyarrow')\n",
    "    print(f\"Saved Parquet to: {pq_path}\")\n",
    "except Exception as e:\n",
    "    print(f\"\\nParquet save failed (install pyarrow/fastparquet): {e}\")\n",
    "    pq_path = None\n",
    "pq_path"
   ]
  },
  {
   "cell_type": "markdown",
   "metadata": {},
   "source": [
    "## 3) Reload and Validate (TODO)\n",
    "- Compare shapes and key dtypes."
   ]
  },
  {
   "cell_type": "code",
   "execution_count": null,
   "metadata": {},
   "outputs": [],
   "source": [
    "# 4. Reload and validate\n",
    "def validate_reloaded(original, reloaded):\n",
    "    \"\"\"Validate shape, dtypes and critical columns\"\"\"\n",
    "    validation = {\n",
    "        'shapes_match': original.shape == reloaded.shape,\n",
    "        'columns_match': set(original.columns) == set(reloaded.columns),\n",
    "        'date_dtype_ok': pd.api.types.is_datetime64_any_dtype(reloaded['date']),\n",
    "        'price_dtype_ok': pd.api.types.is_float_dtype(reloaded['price']),\n",
    "        'volume_dtype_ok': pd.api.types.is_integer_dtype(reloaded['volume']),\n",
    "        'data_integrity': original.equals(reloaded)\n",
    "    }\n",
    "    return pd.Series(validation)\n",
    "\n",
    "# Validate CSV\n",
    "df_csv = pd.read_csv(csv_path, parse_dates=['date'])\n",
    "print(\"\\nCSV Validation Results:\")\n",
    "print(validate_reloaded(df, df_csv))"
   ]
  },
  {
   "cell_type": "code",
   "execution_count": null,
   "metadata": {},
   "outputs": [],
   "source": [
    "if pq_path:\n",
    "    try:\n",
    "        df_pq = pd.read_parquet(pq_path)\n",
    "        validate_loaded(df, df_pq)\n",
    "    except Exception as e:\n",
    "        print('Parquet read failed:', e)"
   ]
  },
  {
   "cell_type": "markdown",
   "metadata": {},
   "source": [
    "## 4) Utilities (TODO)\n",
    "- Implement `detect_format`, `write_df`, `read_df`.\n",
    "- Use suffix to route; create parent dirs if needed; friendly errors for Parquet."
   ]
  },
  {
   "cell_type": "code",
   "execution_count": null,
   "metadata": {},
   "outputs": [],
   "source": [
    "import typing as t, pathlib\n",
    "\n",
    "def detect_format(path: t.Union[str, pathlib.Path]):\n",
    "    s = str(path).lower()\n",
    "    if s.endswith('.csv'): return 'csv'\n",
    "    if s.endswith('.parquet') or s.endswith('.pq') or s.endswith('.parq'): return 'parquet'\n",
    "    raise ValueError('Unsupported format: ' + s)\n",
    "\n",
    "def write_df(df: pd.DataFrame, path: t.Union[str, pathlib.Path]):\n",
    "    p = pathlib.Path(path); p.parent.mkdir(parents=True, exist_ok=True)\n",
    "    fmt = detect_format(p)\n",
    "    if fmt == 'csv':\n",
    "        df.to_csv(p, index=False)\n",
    "    else:\n",
    "        try:\n",
    "            df.to_parquet(p)\n",
    "        except Exception as e:\n",
    "            raise RuntimeError('Parquet engine not available. Install pyarrow or fastparquet.') from e\n",
    "    return p\n",
    "\n",
    "def read_df(path: t.Union[str, pathlib.Path]):\n",
    "    p = pathlib.Path(path)\n",
    "    fmt = detect_format(p)\n",
    "    if fmt == 'csv':\n",
    "        return pd.read_csv(p, parse_dates=['date']) if 'date' in pd.read_csv(p, nrows=0).columns else pd.read_csv(p)\n",
    "    else:\n",
    "        try:\n",
    "            return pd.read_parquet(p)\n",
    "        except Exception as e:\n",
    "            raise RuntimeError('Parquet engine not available. Install pyarrow or fastparquet.') from e\n",
    "\n",
    "# Demo\n",
    "p_csv = RAW / f\"util_{ts()}.csv\"\n",
    "p_pq  = PROC / f\"util_{ts()}.parquet\"\n",
    "write_df(df, p_csv); read_df(p_csv).head()\n",
    "try:\n",
    "    write_df(df, p_pq)\n",
    "    read_df(p_pq).head()\n",
    "except RuntimeError as e:\n",
    "    print('Skipping Parquet util demo:', e)"
   ]
  },
  {
   "cell_type": "markdown",
   "metadata": {},
   "source": [
    "## 5) Documentation (TODO)\n",
    "- Update README with a **Data Storage** section (folders, formats, env usage).\n",
    "- Summarize validation checks and any assumptions."
   ]
  }
 ],
 "metadata": {
  "kernelspec": {
   "display_name": "bootcamp_env",
   "language": "python",
   "name": "python3"
  },
  "language_info": {
   "codemirror_mode": {
    "name": "ipython",
    "version": 3
   },
   "file_extension": ".py",
   "mimetype": "text/x-python",
   "name": "python",
   "nbconvert_exporter": "python",
   "pygments_lexer": "ipython3",
   "version": "3.10.18"
  }
 },
 "nbformat": 4,
 "nbformat_minor": 5
}
