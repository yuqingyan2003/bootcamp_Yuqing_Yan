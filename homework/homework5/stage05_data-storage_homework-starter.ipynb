{
 "cells": [
  {
   "cell_type": "markdown",
   "metadata": {},
   "source": [
    "# Homework Starter — Stage 05: Data Storage\n",
    "Name: Yuqing Yan\n",
    "Date: 08/17/2025\n",
    "\n",
    "Objectives:\n",
    "- Env-driven paths to `data/raw/` and `data/processed/`\n",
    "- Save CSV and Parquet; reload and validate\n",
    "- Abstract IO with utility functions; document choices"
   ]
  },
  {
   "cell_type": "code",
   "execution_count": 1,
   "metadata": {},
   "outputs": [
    {
     "name": "stdout",
     "output_type": "stream",
     "text": [
      "RAW -> /Users/yuqingyan/Desktop/bootcamp_Yuqing_Yan/homework/homework5/data/raw\n",
      "PROC -> /Users/yuqingyan/Desktop/bootcamp_Yuqing_Yan/homework/homework5/data/processed\n"
     ]
    }
   ],
   "source": [
    "import os, pathlib, datetime as dt\n",
    "import pandas as pd\n",
    "import numpy as np\n",
    "from dotenv import load_dotenv\n",
    "\n",
    "# 1. Initialize environment paths\n",
    "load_dotenv()\n",
    "RAW = pathlib.Path(os.getenv('DATA_DIR_RAW', 'data/raw'))\n",
    "PROC = pathlib.Path(os.getenv('DATA_DIR_PROCESSED', 'data/processed'))\n",
    "RAW.mkdir(parents=True, exist_ok=True)\n",
    "PROC.mkdir(parents=True, exist_ok=True)\n",
    "print('RAW ->', RAW.resolve())\n",
    "print('PROC ->', PROC.resolve())"
   ]
  },
  {
   "cell_type": "markdown",
   "metadata": {},
   "source": [
    "## 1) Create or Load a Sample DataFrame\n",
    "You may reuse data from prior stages or create a small synthetic dataset."
   ]
  },
  {
   "cell_type": "code",
   "execution_count": 4,
   "metadata": {},
   "outputs": [
    {
     "name": "stdout",
     "output_type": "stream",
     "text": [
      "\n",
      "Sample DataFrame:\n",
      "        date ticker   price  volume\n",
      "0 2024-01-01   AAPL  150.50   15311\n",
      "1 2024-01-02   AAPL  150.36   47819\n",
      "2 2024-01-03   AAPL  151.01   49188\n",
      "3 2024-01-04   AAPL  152.53   27568\n",
      "4 2024-01-05   AAPL  152.30   29769\n"
     ]
    }
   ],
   "source": [
    "# 2. Create sample DataFrame\n",
    "def create_sample_data():\n",
    "    np.random.seed(42)\n",
    "    dates = pd.date_range('2024-01-01', periods=10, freq='D')\n",
    "    return pd.DataFrame({\n",
    "        'date': dates,\n",
    "        'ticker': ['AAPL']*5 + ['MSFT']*5,\n",
    "        'price': np.round(150 + np.random.randn(10).cumsum(), 2),\n",
    "        'volume': np.random.randint(10000, 50000, 10)\n",
    "    })\n",
    "\n",
    "df = create_sample_data()\n",
    "print(\"\\nSample DataFrame:\")\n",
    "print(df.head())"
   ]
  },
  {
   "cell_type": "markdown",
   "metadata": {},
   "source": [
    "## 2) Save CSV to data/raw/ and Parquet to data/processed\n",
    "- Use timestamped filenames.\n",
    "- Handle missing Parquet engine gracefully."
   ]
  },
  {
   "cell_type": "code",
   "execution_count": 5,
   "metadata": {},
   "outputs": [
    {
     "name": "stdout",
     "output_type": "stream",
     "text": [
      "\n",
      "Saved CSV to: data/raw/stock_data_20250817_135352.csv\n",
      "Saved Parquet to: data/processed/stock_data_20250817_135352.parquet\n"
     ]
    },
    {
     "data": {
      "text/plain": [
       "PosixPath('data/processed/stock_data_20250817_135352.parquet')"
      ]
     },
     "execution_count": 5,
     "metadata": {},
     "output_type": "execute_result"
    }
   ],
   "source": [
    "# 3. Save in both formats\n",
    "def get_timestamp():\n",
    "    return dt.datetime.now().strftime('%Y%m%d_%H%M%S')\n",
    "\n",
    "# Save CSV to raw\n",
    "csv_filename = f\"stock_data_{get_timestamp()}.csv\"\n",
    "csv_path = RAW / csv_filename\n",
    "df.to_csv(csv_path, index=False)\n",
    "print(f\"\\nSaved CSV to: {csv_path}\")\n",
    "\n",
    "# Save Parquet to processed\n",
    "pq_filename = f\"stock_data_{get_timestamp()}.parquet\"\n",
    "pq_path = PROC / pq_filename\n",
    "try:\n",
    "    df.to_parquet(pq_path, engine='pyarrow')\n",
    "    print(f\"Saved Parquet to: {pq_path}\")\n",
    "except Exception as e:\n",
    "    print(f\"\\nParquet save failed (install pyarrow/fastparquet): {e}\")\n",
    "    pq_path = None\n",
    "pq_path"
   ]
  },
  {
   "cell_type": "markdown",
   "metadata": {},
   "source": [
    "## 3) Reload and Validate\n",
    "- Compare shapes and key dtypes."
   ]
  },
  {
   "cell_type": "code",
   "execution_count": 6,
   "metadata": {},
   "outputs": [
    {
     "name": "stdout",
     "output_type": "stream",
     "text": [
      "\n",
      "CSV Validation Results:\n",
      "shapes_match       True\n",
      "columns_match      True\n",
      "date_dtype_ok      True\n",
      "price_dtype_ok     True\n",
      "volume_dtype_ok    True\n",
      "data_integrity     True\n",
      "dtype: bool\n"
     ]
    }
   ],
   "source": [
    "# 4. Reload and validate\n",
    "def validate_reloaded(original, reloaded):\n",
    "    \"\"\"Validate shape, dtypes and critical columns\"\"\"\n",
    "    validation = {\n",
    "        'shapes_match': original.shape == reloaded.shape,\n",
    "        'columns_match': set(original.columns) == set(reloaded.columns),\n",
    "        'date_dtype_ok': pd.api.types.is_datetime64_any_dtype(reloaded['date']),\n",
    "        'price_dtype_ok': pd.api.types.is_float_dtype(reloaded['price']),\n",
    "        'volume_dtype_ok': pd.api.types.is_integer_dtype(reloaded['volume']),\n",
    "        'data_integrity': original.equals(reloaded)\n",
    "    }\n",
    "    return pd.Series(validation)\n",
    "\n",
    "# Validate CSV\n",
    "df_csv = pd.read_csv(csv_path, parse_dates=['date'])\n",
    "print(\"\\nCSV Validation Results:\")\n",
    "print(validate_reloaded(df, df_csv))"
   ]
  },
  {
   "cell_type": "code",
   "execution_count": 7,
   "metadata": {},
   "outputs": [
    {
     "name": "stdout",
     "output_type": "stream",
     "text": [
      "\n",
      "Parquet Validation Results:\n",
      "shapes_match       True\n",
      "columns_match      True\n",
      "date_dtype_ok      True\n",
      "price_dtype_ok     True\n",
      "volume_dtype_ok    True\n",
      "data_integrity     True\n",
      "dtype: bool\n"
     ]
    }
   ],
   "source": [
    "# Validate Parquet if saved\n",
    "if pq_path:\n",
    "    try:\n",
    "        df_pq = pd.read_parquet(pq_path)\n",
    "        print(\"\\nParquet Validation Results:\")\n",
    "        print(validate_reloaded(df, df_pq))\n",
    "    except Exception as e:\n",
    "        print(f\"\\nParquet read failed: {e}\")"
   ]
  },
  {
   "cell_type": "markdown",
   "metadata": {},
   "source": [
    "## 4) Utilities\n",
    "- Implement `detect_format`, `write_df`, `read_df`.\n",
    "- Use suffix to route; create parent dirs if needed; friendly errors for Parquet."
   ]
  },
  {
   "cell_type": "code",
   "execution_count": 8,
   "metadata": {},
   "outputs": [
    {
     "name": "stdout",
     "output_type": "stream",
     "text": [
      "\n",
      "Testing utility functions...\n",
      "CSV utility test passed: True\n",
      "Parquet utility test passed: True\n"
     ]
    }
   ],
   "source": [
    "import typing as t, pathlib\n",
    "\n",
    "def detect_format(path: t.Union[str, pathlib.Path]):\n",
    "    s = str(path).lower()\n",
    "    if s.endswith('.csv'): return 'csv'\n",
    "    if s.endswith('.parquet') or s.endswith('.pq') or s.endswith('.parq'): return 'parquet'\n",
    "    raise ValueError('Unsupported format: ' + s)\n",
    "\n",
    "# 5. Implement utility functions\n",
    "def write_df(df: pd.DataFrame, path: pathlib.Path) -> pathlib.Path:\n",
    "    \"\"\"Save DataFrame based on file extension\"\"\"\n",
    "    path.parent.mkdir(parents=True, exist_ok=True)\n",
    "    suffix = path.suffix.lower()\n",
    "    \n",
    "    if suffix == '.csv':\n",
    "        df.to_csv(path, index=False)\n",
    "    elif suffix in ('.parquet', '.pq'):\n",
    "        try:\n",
    "            df.to_parquet(path, engine='pyarrow')\n",
    "        except Exception as e:\n",
    "            raise RuntimeError(\n",
    "                \"Parquet support requires pyarrow or fastparquet. \"\n",
    "                f\"Error: {str(e)}\"\n",
    "            )\n",
    "    else:\n",
    "        raise ValueError(f\"Unsupported file format: {suffix}\")\n",
    "    \n",
    "    return path\n",
    "\n",
    "def read_df(path: pathlib.Path) -> pd.DataFrame:\n",
    "    \"\"\"Load DataFrame based on file extension\"\"\"\n",
    "    suffix = path.suffix.lower()\n",
    "    \n",
    "    if suffix == '.csv':\n",
    "        # Auto-detect date columns\n",
    "        date_cols = [col for col in pd.read_csv(path, nrows=0).columns \n",
    "                    if 'date' in col.lower()]\n",
    "        return pd.read_csv(path, parse_dates=date_cols)\n",
    "    elif suffix in ('.parquet', '.pq'):\n",
    "        try:\n",
    "            return pd.read_parquet(path)\n",
    "        except Exception as e:\n",
    "            raise RuntimeError(\n",
    "                \"Parquet support requires pyarrow or fastparquet. \"\n",
    "                f\"Error: {str(e)}\"\n",
    "            )\n",
    "    else:\n",
    "        raise ValueError(f\"Unsupported file format: {suffix}\")\n",
    "    \n",
    "# Test utilities\n",
    "print(\"\\nTesting utility functions...\")\n",
    "test_csv = RAW / f\"test_util_{get_timestamp()}.csv\"\n",
    "test_pq = PROC / f\"test_util_{get_timestamp()}.parquet\"\n",
    "\n",
    "# Test CSV\n",
    "write_df(df, test_csv)\n",
    "df_test_csv = read_df(test_csv)\n",
    "print(f\"CSV utility test passed: {df.equals(df_test_csv)}\")\n",
    "\n",
    "# Test Parquet if available\n",
    "try:\n",
    "    write_df(df, test_pq)\n",
    "    df_test_pq = read_df(test_pq)\n",
    "    print(f\"Parquet utility test passed: {df.equals(df_test_pq)}\")\n",
    "except RuntimeError as e:\n",
    "    print(f\"Parquet utility test skipped: {e}\")"
   ]
  },
  {
   "cell_type": "markdown",
   "metadata": {},
   "source": [
    "## 5) Documentation: See in README.md\n",
    "- Update README with a **Data Storage** section (folders, formats, env usage).\n",
    "- Summarize validation checks and any assumptions.\n"
   ]
  }
 ],
 "metadata": {
  "kernelspec": {
   "display_name": "bootcamp_env",
   "language": "python",
   "name": "python3"
  },
  "language_info": {
   "codemirror_mode": {
    "name": "ipython",
    "version": 3
   },
   "file_extension": ".py",
   "mimetype": "text/x-python",
   "name": "python",
   "nbconvert_exporter": "python",
   "pygments_lexer": "ipython3",
   "version": "3.10.18"
  }
 },
 "nbformat": 4,
 "nbformat_minor": 5
}
