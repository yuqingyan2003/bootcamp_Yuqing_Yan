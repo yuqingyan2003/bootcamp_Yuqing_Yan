{
 "cells": [
  {
   "cell_type": "code",
   "execution_count": 6,
   "id": "40e454a1",
   "metadata": {},
   "outputs": [],
   "source": [
    "import numpy as np\n",
    "import pandas as pd\n",
    "import matplotlib.pyplot as plt\n",
    "from datetime import datetime\n",
    "import time"
   ]
  },
  {
   "cell_type": "markdown",
   "id": "82738d14",
   "metadata": {},
   "source": [
    "## 1. NumPy Operations"
   ]
  },
  {
   "cell_type": "code",
   "execution_count": 7,
   "id": "9fddf167",
   "metadata": {},
   "outputs": [
    {
     "name": "stdout",
     "output_type": "stream",
     "text": [
      "Results are identical: True\n",
      "Vectorized execution time: 0.010 seconds\n",
      "Loop execution time: 1.255 seconds\n"
     ]
    }
   ],
   "source": [
    "# Create two large arrays\n",
    "size = 10_000_000\n",
    "arr1 = np.random.rand(size)\n",
    "arr2 = np.random.rand(size)\n",
    "\n",
    "# --- Vectorized execution ---\n",
    "start_vec = time.time()\n",
    "result_vec = arr1 + arr2  # Elementwise addition\n",
    "end_vec = time.time()\n",
    "vec_time = end_vec - start_vec\n",
    "\n",
    "# --- Loop execution ---\n",
    "start_loop = time.time()\n",
    "result_loop = np.empty(size)\n",
    "for i in range(size):\n",
    "    result_loop[i] = arr1[i] + arr2[i]\n",
    "end_loop = time.time()\n",
    "loop_time = end_loop - start_loop\n",
    "\n",
    "# ## Vectorization vs Loops: Verify both methods produce the same result\n",
    "print(\"Results are identical:\", np.allclose(result_vec, result_loop))\n",
    "print(f\"Vectorized execution time: {vec_time:.3f} seconds\")\n",
    "print(f\"Loop execution time: {loop_time:.3f} seconds\")\n"
   ]
  },
  {
   "cell_type": "markdown",
   "id": "5919c765",
   "metadata": {},
   "source": [
    "## 2. Dataset Loading"
   ]
  },
  {
   "cell_type": "code",
   "execution_count": 10,
   "id": "cefd0b1f",
   "metadata": {},
   "outputs": [
    {
     "name": "stdout",
     "output_type": "stream",
     "text": [
      "<class 'pandas.core.frame.DataFrame'>\n",
      "RangeIndex: 10 entries, 0 to 9\n",
      "Data columns (total 3 columns):\n",
      " #   Column    Non-Null Count  Dtype \n",
      "---  ------    --------------  ----- \n",
      " 0   category  10 non-null     object\n",
      " 1   value     10 non-null     int64 \n",
      " 2   date      10 non-null     object\n",
      "dtypes: int64(1), object(2)\n",
      "memory usage: 368.0+ bytes\n"
     ]
    },
    {
     "data": {
      "text/plain": [
       "(  category  value        date\n",
       " 0        A     10  2025-08-01\n",
       " 1        B     15  2025-08-02\n",
       " 2        A     12  2025-08-03\n",
       " 3        B     18  2025-08-04\n",
       " 4        C     25  2025-08-05,\n",
       " None)"
      ]
     },
     "execution_count": 10,
     "metadata": {},
     "output_type": "execute_result"
    }
   ],
   "source": [
    "df = pd.read_csv('../data/starter_data.csv')\n",
    "df.head(), df.info()"
   ]
  },
  {
   "cell_type": "markdown",
   "id": "a103d9ff",
   "metadata": {},
   "source": [
    "## 3. Summary Statistics"
   ]
  },
  {
   "cell_type": "code",
   "execution_count": 11,
   "id": "6595a171",
   "metadata": {},
   "outputs": [
    {
     "data": {
      "text/html": [
       "<div>\n",
       "<style scoped>\n",
       "    .dataframe tbody tr th:only-of-type {\n",
       "        vertical-align: middle;\n",
       "    }\n",
       "\n",
       "    .dataframe tbody tr th {\n",
       "        vertical-align: top;\n",
       "    }\n",
       "\n",
       "    .dataframe thead th {\n",
       "        text-align: right;\n",
       "    }\n",
       "</style>\n",
       "<table border=\"1\" class=\"dataframe\">\n",
       "  <thead>\n",
       "    <tr style=\"text-align: right;\">\n",
       "      <th></th>\n",
       "      <th>value</th>\n",
       "    </tr>\n",
       "  </thead>\n",
       "  <tbody>\n",
       "    <tr>\n",
       "      <th>count</th>\n",
       "      <td>10.000000</td>\n",
       "    </tr>\n",
       "    <tr>\n",
       "      <th>mean</th>\n",
       "      <td>17.600000</td>\n",
       "    </tr>\n",
       "    <tr>\n",
       "      <th>std</th>\n",
       "      <td>7.381659</td>\n",
       "    </tr>\n",
       "    <tr>\n",
       "      <th>min</th>\n",
       "      <td>10.000000</td>\n",
       "    </tr>\n",
       "    <tr>\n",
       "      <th>25%</th>\n",
       "      <td>12.250000</td>\n",
       "    </tr>\n",
       "    <tr>\n",
       "      <th>50%</th>\n",
       "      <td>14.500000</td>\n",
       "    </tr>\n",
       "    <tr>\n",
       "      <th>75%</th>\n",
       "      <td>23.250000</td>\n",
       "    </tr>\n",
       "    <tr>\n",
       "      <th>max</th>\n",
       "      <td>30.000000</td>\n",
       "    </tr>\n",
       "  </tbody>\n",
       "</table>\n",
       "</div>"
      ],
      "text/plain": [
       "           value\n",
       "count  10.000000\n",
       "mean   17.600000\n",
       "std     7.381659\n",
       "min    10.000000\n",
       "25%    12.250000\n",
       "50%    14.500000\n",
       "75%    23.250000\n",
       "max    30.000000"
      ]
     },
     "execution_count": 11,
     "metadata": {},
     "output_type": "execute_result"
    }
   ],
   "source": [
    "df.describe()"
   ]
  },
  {
   "cell_type": "code",
   "execution_count": 17,
   "id": "ca6789b0",
   "metadata": {},
   "outputs": [
    {
     "name": "stdout",
     "output_type": "stream",
     "text": [
      "Numeric Statistics:\n"
     ]
    },
    {
     "data": {
      "text/html": [
       "<div>\n",
       "<style scoped>\n",
       "    .dataframe tbody tr th:only-of-type {\n",
       "        vertical-align: middle;\n",
       "    }\n",
       "\n",
       "    .dataframe tbody tr th {\n",
       "        vertical-align: top;\n",
       "    }\n",
       "\n",
       "    .dataframe thead th {\n",
       "        text-align: right;\n",
       "    }\n",
       "</style>\n",
       "<table border=\"1\" class=\"dataframe\">\n",
       "  <thead>\n",
       "    <tr style=\"text-align: right;\">\n",
       "      <th></th>\n",
       "      <th>value</th>\n",
       "    </tr>\n",
       "  </thead>\n",
       "  <tbody>\n",
       "    <tr>\n",
       "      <th>count</th>\n",
       "      <td>10.000000</td>\n",
       "    </tr>\n",
       "    <tr>\n",
       "      <th>mean</th>\n",
       "      <td>17.600000</td>\n",
       "    </tr>\n",
       "    <tr>\n",
       "      <th>std</th>\n",
       "      <td>7.381659</td>\n",
       "    </tr>\n",
       "    <tr>\n",
       "      <th>min</th>\n",
       "      <td>10.000000</td>\n",
       "    </tr>\n",
       "    <tr>\n",
       "      <th>25%</th>\n",
       "      <td>12.250000</td>\n",
       "    </tr>\n",
       "    <tr>\n",
       "      <th>50%</th>\n",
       "      <td>14.500000</td>\n",
       "    </tr>\n",
       "    <tr>\n",
       "      <th>75%</th>\n",
       "      <td>23.250000</td>\n",
       "    </tr>\n",
       "    <tr>\n",
       "      <th>max</th>\n",
       "      <td>30.000000</td>\n",
       "    </tr>\n",
       "  </tbody>\n",
       "</table>\n",
       "</div>"
      ],
      "text/plain": [
       "           value\n",
       "count  10.000000\n",
       "mean   17.600000\n",
       "std     7.381659\n",
       "min    10.000000\n",
       "25%    12.250000\n",
       "50%    14.500000\n",
       "75%    23.250000\n",
       "max    30.000000"
      ]
     },
     "metadata": {},
     "output_type": "display_data"
    }
   ],
   "source": [
    "# Numeric columns stats\n",
    "numeric_stats = df.select_dtypes(include=np.number).describe()\n",
    "print(\"Numeric Statistics:\")\n",
    "display(numeric_stats)"
   ]
  },
  {
   "cell_type": "markdown",
   "id": "040cbb03",
   "metadata": {},
   "source": [
    "## 4. Save Outputs"
   ]
  },
  {
   "cell_type": "code",
   "execution_count": 14,
   "id": "9a1632ec",
   "metadata": {},
   "outputs": [
    {
     "data": {
      "text/html": [
       "<div>\n",
       "<style scoped>\n",
       "    .dataframe tbody tr th:only-of-type {\n",
       "        vertical-align: middle;\n",
       "    }\n",
       "\n",
       "    .dataframe tbody tr th {\n",
       "        vertical-align: top;\n",
       "    }\n",
       "\n",
       "    .dataframe thead th {\n",
       "        text-align: right;\n",
       "    }\n",
       "</style>\n",
       "<table border=\"1\" class=\"dataframe\">\n",
       "  <thead>\n",
       "    <tr style=\"text-align: right;\">\n",
       "      <th></th>\n",
       "      <th>category</th>\n",
       "      <th>value</th>\n",
       "    </tr>\n",
       "  </thead>\n",
       "  <tbody>\n",
       "    <tr>\n",
       "      <th>0</th>\n",
       "      <td>A</td>\n",
       "      <td>11.500000</td>\n",
       "    </tr>\n",
       "    <tr>\n",
       "      <th>1</th>\n",
       "      <td>B</td>\n",
       "      <td>15.666667</td>\n",
       "    </tr>\n",
       "    <tr>\n",
       "      <th>2</th>\n",
       "      <td>C</td>\n",
       "      <td>27.666667</td>\n",
       "    </tr>\n",
       "  </tbody>\n",
       "</table>\n",
       "</div>"
      ],
      "text/plain": [
       "  category      value\n",
       "0        A  11.500000\n",
       "1        B  15.666667\n",
       "2        C  27.666667"
      ]
     },
     "execution_count": 14,
     "metadata": {},
     "output_type": "execute_result"
    }
   ],
   "source": [
    "summary = df.groupby('category').mean(numeric_only=True).reset_index()\n",
    "summary.to_csv('../data/processed/summary.csv', index=False)\n",
    "summary"
   ]
  },
  {
   "cell_type": "markdown",
   "id": "8cc90160",
   "metadata": {},
   "source": [
    "## Bonus: Plotting"
   ]
  },
  {
   "cell_type": "code",
   "execution_count": 16,
   "id": "2d0306a5",
   "metadata": {},
   "outputs": [
    {
     "data": {
      "image/png": "[encoded data removed]",
      "text/plain": [
       "<Figure size 640x480 with 1 Axes>"
      ]
     },
     "metadata": {},
     "output_type": "display_data"
    }
   ],
   "source": [
    "df['value'].hist()\n",
    "plt.savefig('../data/processed/histogram.png')"
   ]
  },
  {
   "cell_type": "markdown",
   "id": "791ce47f",
   "metadata": {},
   "source": [
    "## Bonus: Reusable Function"
   ]
  },
  {
   "cell_type": "code",
   "execution_count": 18,
   "id": "ddc8fad5",
   "metadata": {},
   "outputs": [
    {
     "name": "stdout",
     "output_type": "stream",
     "text": [
      "\n",
      "Custom Analysis:\n"
     ]
    },
    {
     "data": {
      "text/html": [
       "<div>\n",
       "<style scoped>\n",
       "    .dataframe tbody tr th:only-of-type {\n",
       "        vertical-align: middle;\n",
       "    }\n",
       "\n",
       "    .dataframe tbody tr th {\n",
       "        vertical-align: top;\n",
       "    }\n",
       "\n",
       "    .dataframe thead tr th {\n",
       "        text-align: left;\n",
       "    }\n",
       "\n",
       "    .dataframe thead tr:last-of-type th {\n",
       "        text-align: right;\n",
       "    }\n",
       "</style>\n",
       "<table border=\"1\" class=\"dataframe\">\n",
       "  <thead>\n",
       "    <tr>\n",
       "      <th></th>\n",
       "      <th colspan=\"8\" halign=\"left\">value</th>\n",
       "    </tr>\n",
       "    <tr>\n",
       "      <th></th>\n",
       "      <th>count</th>\n",
       "      <th>mean</th>\n",
       "      <th>std</th>\n",
       "      <th>min</th>\n",
       "      <th>25%</th>\n",
       "      <th>50%</th>\n",
       "      <th>75%</th>\n",
       "      <th>max</th>\n",
       "    </tr>\n",
       "    <tr>\n",
       "      <th>category</th>\n",
       "      <th></th>\n",
       "      <th></th>\n",
       "      <th></th>\n",
       "      <th></th>\n",
       "      <th></th>\n",
       "      <th></th>\n",
       "      <th></th>\n",
       "      <th></th>\n",
       "    </tr>\n",
       "  </thead>\n",
       "  <tbody>\n",
       "    <tr>\n",
       "      <th>A</th>\n",
       "      <td>4.0</td>\n",
       "      <td>11.500000</td>\n",
       "      <td>1.290994</td>\n",
       "      <td>10.0</td>\n",
       "      <td>10.75</td>\n",
       "      <td>11.5</td>\n",
       "      <td>12.25</td>\n",
       "      <td>13.0</td>\n",
       "    </tr>\n",
       "    <tr>\n",
       "      <th>B</th>\n",
       "      <td>3.0</td>\n",
       "      <td>15.666667</td>\n",
       "      <td>2.081666</td>\n",
       "      <td>14.0</td>\n",
       "      <td>14.50</td>\n",
       "      <td>15.0</td>\n",
       "      <td>16.50</td>\n",
       "      <td>18.0</td>\n",
       "    </tr>\n",
       "    <tr>\n",
       "      <th>C</th>\n",
       "      <td>3.0</td>\n",
       "      <td>27.666667</td>\n",
       "      <td>2.516611</td>\n",
       "      <td>25.0</td>\n",
       "      <td>26.50</td>\n",
       "      <td>28.0</td>\n",
       "      <td>29.00</td>\n",
       "      <td>30.0</td>\n",
       "    </tr>\n",
       "  </tbody>\n",
       "</table>\n",
       "</div>"
      ],
      "text/plain": [
       "         value                                                     \n",
       "         count       mean       std   min    25%   50%    75%   max\n",
       "category                                                           \n",
       "A          4.0  11.500000  1.290994  10.0  10.75  11.5  12.25  13.0\n",
       "B          3.0  15.666667  2.081666  14.0  14.50  15.0  16.50  18.0\n",
       "C          3.0  27.666667  2.516611  25.0  26.50  28.0  29.00  30.0"
      ]
     },
     "metadata": {},
     "output_type": "display_data"
    }
   ],
   "source": [
    "def analyze_numeric(df, group_col=None):\n",
    "    \"\"\"\n",
    "    Generate enhanced statistics for numeric columns.\n",
    "    \n",
    "    Args:\n",
    "        df: pandas DataFrame\n",
    "        group_col: Column name for grouping (optional)\n",
    "    \n",
    "    Returns:\n",
    "        DataFrame with statistics\n",
    "    \"\"\"\n",
    "    numeric_df = df.select_dtypes(include=np.number)\n",
    "    \n",
    "    if group_col and group_col in df.columns:\n",
    "        return numeric_df.groupby(df[group_col]).describe()\n",
    "    return numeric_df.describe()\n",
    "\n",
    "# Test the function\n",
    "print(\"\\nCustom Analysis:\")\n",
    "display(analyze_numeric(df, 'category' if 'category' in df.columns else None))"
   ]
  },
  {
   "cell_type": "markdown",
   "id": "861184ff",
   "metadata": {},
   "source": [
    "## Bonus: Move Function to utils.py"
   ]
  },
  {
   "cell_type": "code",
   "execution_count": 21,
   "id": "aaf737ac",
   "metadata": {},
   "outputs": [
    {
     "name": "stdout",
     "output_type": "stream",
     "text": [
      "\n",
      "Imported Function Test:\n"
     ]
    },
    {
     "data": {
      "text/html": [
       "<div>\n",
       "<style scoped>\n",
       "    .dataframe tbody tr th:only-of-type {\n",
       "        vertical-align: middle;\n",
       "    }\n",
       "\n",
       "    .dataframe tbody tr th {\n",
       "        vertical-align: top;\n",
       "    }\n",
       "\n",
       "    .dataframe thead th {\n",
       "        text-align: right;\n",
       "    }\n",
       "</style>\n",
       "<table border=\"1\" class=\"dataframe\">\n",
       "  <thead>\n",
       "    <tr style=\"text-align: right;\">\n",
       "      <th></th>\n",
       "      <th>value</th>\n",
       "    </tr>\n",
       "  </thead>\n",
       "  <tbody>\n",
       "    <tr>\n",
       "      <th>count</th>\n",
       "      <td>10.000000</td>\n",
       "    </tr>\n",
       "    <tr>\n",
       "      <th>mean</th>\n",
       "      <td>17.600000</td>\n",
       "    </tr>\n",
       "    <tr>\n",
       "      <th>std</th>\n",
       "      <td>7.381659</td>\n",
       "    </tr>\n",
       "    <tr>\n",
       "      <th>min</th>\n",
       "      <td>10.000000</td>\n",
       "    </tr>\n",
       "    <tr>\n",
       "      <th>25%</th>\n",
       "      <td>12.250000</td>\n",
       "    </tr>\n",
       "    <tr>\n",
       "      <th>50%</th>\n",
       "      <td>14.500000</td>\n",
       "    </tr>\n",
       "    <tr>\n",
       "      <th>75%</th>\n",
       "      <td>23.250000</td>\n",
       "    </tr>\n",
       "    <tr>\n",
       "      <th>max</th>\n",
       "      <td>30.000000</td>\n",
       "    </tr>\n",
       "    <tr>\n",
       "      <th>range</th>\n",
       "      <td>20.000000</td>\n",
       "    </tr>\n",
       "  </tbody>\n",
       "</table>\n",
       "</div>"
      ],
      "text/plain": [
       "           value\n",
       "count  10.000000\n",
       "mean   17.600000\n",
       "std     7.381659\n",
       "min    10.000000\n",
       "25%    12.250000\n",
       "50%    14.500000\n",
       "75%    23.250000\n",
       "max    30.000000\n",
       "range  20.000000"
      ]
     },
     "metadata": {},
     "output_type": "display_data"
    }
   ],
   "source": [
    "import os\n",
    "import sys\n",
    "\n",
    "# Direct path to src folder\n",
    "src_path = os.path.abspath(os.path.join(os.getcwd(), \"../src\"))\n",
    "sys.path.insert(0, src_path)\n",
    "# This function is also saved in src/utils.py\n",
    "from utils import analyze_numeric as external_analyze\n",
    "\n",
    "print(\"\\nImported Function Test:\")\n",
    "display(external_analyze(df))"
   ]
  }
 ],
 "metadata": {
  "kernelspec": {
   "display_name": "bootcamp_env",
   "language": "python",
   "name": "python3"
  },
  "language_info": {
   "codemirror_mode": {
    "name": "ipython",
    "version": 3
   },
   "file_extension": ".py",
   "mimetype": "text/x-python",
   "name": "python",
   "nbconvert_exporter": "python",
   "pygments_lexer": "ipython3",
   "version": "3.10.18"
  }
 },
 "nbformat": 4,
 "nbformat_minor": 5
}
