{
 "cells": [
  {
   "cell_type": "markdown",
   "metadata": {},
   "source": [
    "# Homework Starter — Stage 6: Data Preprocessing\n",
    "Yuqing Yan 08/18/2025\n",
    "\n",
    "Use this notebook to apply your cleaning functions and save processed data."
   ]
  },
  {
   "cell_type": "code",
   "execution_count": 1,
   "metadata": {},
   "outputs": [],
   "source": [
    "import pandas as pd\n",
    "import numpy as np\n",
    "from sklearn.preprocessing import MinMaxScaler"
   ]
  },
  {
   "cell_type": "markdown",
   "metadata": {},
   "source": [
    "## Load Raw Dataset"
   ]
  },
  {
   "cell_type": "code",
   "execution_count": 2,
   "metadata": {},
   "outputs": [
    {
     "data": {
      "text/html": [
       "<div>\n",
       "<style scoped>\n",
       "    .dataframe tbody tr th:only-of-type {\n",
       "        vertical-align: middle;\n",
       "    }\n",
       "\n",
       "    .dataframe tbody tr th {\n",
       "        vertical-align: top;\n",
       "    }\n",
       "\n",
       "    .dataframe thead th {\n",
       "        text-align: right;\n",
       "    }\n",
       "</style>\n",
       "<table border=\"1\" class=\"dataframe\">\n",
       "  <thead>\n",
       "    <tr style=\"text-align: right;\">\n",
       "      <th></th>\n",
       "      <th>date</th>\n",
       "      <th>ticker</th>\n",
       "      <th>price</th>\n",
       "      <th>volume</th>\n",
       "    </tr>\n",
       "  </thead>\n",
       "  <tbody>\n",
       "    <tr>\n",
       "      <th>0</th>\n",
       "      <td>2024-01-01</td>\n",
       "      <td>AAPL</td>\n",
       "      <td>NaN</td>\n",
       "      <td>15311.0</td>\n",
       "    </tr>\n",
       "    <tr>\n",
       "      <th>1</th>\n",
       "      <td>2024-01-02</td>\n",
       "      <td>AAPL</td>\n",
       "      <td>150.36</td>\n",
       "      <td>47819.0</td>\n",
       "    </tr>\n",
       "    <tr>\n",
       "      <th>2</th>\n",
       "      <td>2024-01-03</td>\n",
       "      <td>AAPL</td>\n",
       "      <td>151.01</td>\n",
       "      <td>49188.0</td>\n",
       "    </tr>\n",
       "    <tr>\n",
       "      <th>3</th>\n",
       "      <td>2024-01-04</td>\n",
       "      <td>AAPL</td>\n",
       "      <td>152.53</td>\n",
       "      <td>NaN</td>\n",
       "    </tr>\n",
       "    <tr>\n",
       "      <th>4</th>\n",
       "      <td>2024-01-05</td>\n",
       "      <td>AAPL</td>\n",
       "      <td>152.30</td>\n",
       "      <td>NaN</td>\n",
       "    </tr>\n",
       "  </tbody>\n",
       "</table>\n",
       "</div>"
      ],
      "text/plain": [
       "         date ticker   price   volume\n",
       "0  2024-01-01   AAPL     NaN  15311.0\n",
       "1  2024-01-02   AAPL  150.36  47819.0\n",
       "2  2024-01-03   AAPL  151.01  49188.0\n",
       "3  2024-01-04   AAPL  152.53      NaN\n",
       "4  2024-01-05   AAPL  152.30      NaN"
      ]
     },
     "execution_count": 2,
     "metadata": {},
     "output_type": "execute_result"
    }
   ],
   "source": [
    "df_raw = pd.read_csv('data/raw/stock_data_20250817_135352.csv')\n",
    "df = df_raw.copy()\n",
    "# Introduce some missing values for demonstration\n",
    "df.loc[0, 'price'] = np.nan\n",
    "df.loc[3, 'volume'] = np.nan\n",
    "df.loc[4, 'volume'] = np.nan\n",
    "df.loc[5, 'ticker'] = np.nan\n",
    "df.head()"
   ]
  },
  {
   "cell_type": "code",
   "execution_count": 3,
   "metadata": {},
   "outputs": [
    {
     "data": {
      "text/html": [
       "<div>\n",
       "<style scoped>\n",
       "    .dataframe tbody tr th:only-of-type {\n",
       "        vertical-align: middle;\n",
       "    }\n",
       "\n",
       "    .dataframe tbody tr th {\n",
       "        vertical-align: top;\n",
       "    }\n",
       "\n",
       "    .dataframe thead th {\n",
       "        text-align: right;\n",
       "    }\n",
       "</style>\n",
       "<table border=\"1\" class=\"dataframe\">\n",
       "  <thead>\n",
       "    <tr style=\"text-align: right;\">\n",
       "      <th></th>\n",
       "      <th>date</th>\n",
       "      <th>ticker</th>\n",
       "      <th>price</th>\n",
       "      <th>volume</th>\n",
       "    </tr>\n",
       "  </thead>\n",
       "  <tbody>\n",
       "    <tr>\n",
       "      <th>0</th>\n",
       "      <td>2024-01-01</td>\n",
       "      <td>AAPL</td>\n",
       "      <td>NaN</td>\n",
       "      <td>15311.0</td>\n",
       "    </tr>\n",
       "    <tr>\n",
       "      <th>1</th>\n",
       "      <td>2024-01-02</td>\n",
       "      <td>AAPL</td>\n",
       "      <td>150.36</td>\n",
       "      <td>47819.0</td>\n",
       "    </tr>\n",
       "    <tr>\n",
       "      <th>2</th>\n",
       "      <td>2024-01-03</td>\n",
       "      <td>AAPL</td>\n",
       "      <td>151.01</td>\n",
       "      <td>49188.0</td>\n",
       "    </tr>\n",
       "    <tr>\n",
       "      <th>3</th>\n",
       "      <td>2024-01-04</td>\n",
       "      <td>AAPL</td>\n",
       "      <td>152.53</td>\n",
       "      <td>NaN</td>\n",
       "    </tr>\n",
       "    <tr>\n",
       "      <th>4</th>\n",
       "      <td>2024-01-05</td>\n",
       "      <td>AAPL</td>\n",
       "      <td>152.30</td>\n",
       "      <td>NaN</td>\n",
       "    </tr>\n",
       "    <tr>\n",
       "      <th>5</th>\n",
       "      <td>2024-01-06</td>\n",
       "      <td>NaN</td>\n",
       "      <td>152.06</td>\n",
       "      <td>38693.0</td>\n",
       "    </tr>\n",
       "    <tr>\n",
       "      <th>6</th>\n",
       "      <td>2024-01-07</td>\n",
       "      <td>MSFT</td>\n",
       "      <td>153.64</td>\n",
       "      <td>16396.0</td>\n",
       "    </tr>\n",
       "    <tr>\n",
       "      <th>7</th>\n",
       "      <td>2024-01-08</td>\n",
       "      <td>MSFT</td>\n",
       "      <td>154.41</td>\n",
       "      <td>37480.0</td>\n",
       "    </tr>\n",
       "    <tr>\n",
       "      <th>8</th>\n",
       "      <td>2024-01-09</td>\n",
       "      <td>MSFT</td>\n",
       "      <td>153.94</td>\n",
       "      <td>35658.0</td>\n",
       "    </tr>\n",
       "    <tr>\n",
       "      <th>9</th>\n",
       "      <td>2024-01-10</td>\n",
       "      <td>MSFT</td>\n",
       "      <td>154.48</td>\n",
       "      <td>28942.0</td>\n",
       "    </tr>\n",
       "  </tbody>\n",
       "</table>\n",
       "</div>"
      ],
      "text/plain": [
       "         date ticker   price   volume\n",
       "0  2024-01-01   AAPL     NaN  15311.0\n",
       "1  2024-01-02   AAPL  150.36  47819.0\n",
       "2  2024-01-03   AAPL  151.01  49188.0\n",
       "3  2024-01-04   AAPL  152.53      NaN\n",
       "4  2024-01-05   AAPL  152.30      NaN\n",
       "5  2024-01-06    NaN  152.06  38693.0\n",
       "6  2024-01-07   MSFT  153.64  16396.0\n",
       "7  2024-01-08   MSFT  154.41  37480.0\n",
       "8  2024-01-09   MSFT  153.94  35658.0\n",
       "9  2024-01-10   MSFT  154.48  28942.0"
      ]
     },
     "execution_count": 3,
     "metadata": {},
     "output_type": "execute_result"
    }
   ],
   "source": [
    "df.loc[0, 'price'] = np.nan\n",
    "df.loc[3, 'volume'] = np.nan\n",
    "df.loc[4, 'volume'] = np.nan\n",
    "df.loc[5, 'ticker'] = np.nan\n",
    "df"
   ]
  },
  {
   "cell_type": "markdown",
   "metadata": {},
   "source": [
    "## Apply Cleaning Functions"
   ]
  },
  {
   "cell_type": "code",
   "execution_count": 4,
   "metadata": {},
   "outputs": [
    {
     "data": {
      "text/html": [
       "<div>\n",
       "<style scoped>\n",
       "    .dataframe tbody tr th:only-of-type {\n",
       "        vertical-align: middle;\n",
       "    }\n",
       "\n",
       "    .dataframe tbody tr th {\n",
       "        vertical-align: top;\n",
       "    }\n",
       "\n",
       "    .dataframe thead th {\n",
       "        text-align: right;\n",
       "    }\n",
       "</style>\n",
       "<table border=\"1\" class=\"dataframe\">\n",
       "  <thead>\n",
       "    <tr style=\"text-align: right;\">\n",
       "      <th></th>\n",
       "      <th>date</th>\n",
       "      <th>ticker</th>\n",
       "      <th>price</th>\n",
       "      <th>volume</th>\n",
       "    </tr>\n",
       "  </thead>\n",
       "  <tbody>\n",
       "    <tr>\n",
       "      <th>0</th>\n",
       "      <td>2024-01-01</td>\n",
       "      <td>AAPL</td>\n",
       "      <td>0.526699</td>\n",
       "      <td>0.000000</td>\n",
       "    </tr>\n",
       "    <tr>\n",
       "      <th>1</th>\n",
       "      <td>2024-01-02</td>\n",
       "      <td>AAPL</td>\n",
       "      <td>0.000000</td>\n",
       "      <td>0.959589</td>\n",
       "    </tr>\n",
       "    <tr>\n",
       "      <th>2</th>\n",
       "      <td>2024-01-03</td>\n",
       "      <td>AAPL</td>\n",
       "      <td>0.157767</td>\n",
       "      <td>1.000000</td>\n",
       "    </tr>\n",
       "    <tr>\n",
       "      <th>3</th>\n",
       "      <td>2024-01-04</td>\n",
       "      <td>AAPL</td>\n",
       "      <td>0.526699</td>\n",
       "      <td>0.627505</td>\n",
       "    </tr>\n",
       "    <tr>\n",
       "      <th>4</th>\n",
       "      <td>2024-01-05</td>\n",
       "      <td>AAPL</td>\n",
       "      <td>0.470874</td>\n",
       "      <td>0.627505</td>\n",
       "    </tr>\n",
       "  </tbody>\n",
       "</table>\n",
       "</div>"
      ],
      "text/plain": [
       "         date ticker     price    volume\n",
       "0  2024-01-01   AAPL  0.526699  0.000000\n",
       "1  2024-01-02   AAPL  0.000000  0.959589\n",
       "2  2024-01-03   AAPL  0.157767  1.000000\n",
       "3  2024-01-04   AAPL  0.526699  0.627505\n",
       "4  2024-01-05   AAPL  0.470874  0.627505"
      ]
     },
     "execution_count": 4,
     "metadata": {},
     "output_type": "execute_result"
    }
   ],
   "source": [
    "\n",
    "from src import cleaning\n",
    "df_clean = cleaning.fill_missing_median(df, ['price', 'volume'])\n",
    "df_clean = cleaning.drop_missing(df_clean, threshold=0.5)\n",
    "df_clean = cleaning.normalize_data(df_clean, ['price', 'volume'])\n",
    "df_clean.head()"
   ]
  },
  {
   "cell_type": "markdown",
   "metadata": {},
   "source": [
    "## Save Cleaned Dataset"
   ]
  },
  {
   "cell_type": "code",
   "execution_count": 5,
   "metadata": {},
   "outputs": [],
   "source": [
    "df_clean.to_csv('data/processed/stock_data_cleaned.csv', index=False)"
   ]
  },
  {
   "cell_type": "markdown",
   "metadata": {},
   "source": [
    "## Comparison"
   ]
  },
  {
   "cell_type": "code",
   "execution_count": 6,
   "metadata": {},
   "outputs": [
    {
     "name": "stdout",
     "output_type": "stream",
     "text": [
      "Original shape: (10, 4)\n",
      "Cleaned shape: (10, 4)\n",
      "Original missing values:\n",
      "date      0\n",
      "ticker    1\n",
      "price     1\n",
      "volume    2\n",
      "dtype: int64\n",
      "Cleaned missing values:\n",
      "date      0\n",
      "ticker    1\n",
      "price     0\n",
      "volume    0\n",
      "dtype: int64\n",
      "Original price stats:\n",
      "count      9.000000\n",
      "mean     152.747778\n",
      "std        1.475778\n",
      "min      150.360000\n",
      "25%      152.060000\n",
      "50%      152.530000\n",
      "75%      153.940000\n",
      "max      154.480000\n",
      "Name: price, dtype: float64\n",
      "Cleaned price stats:\n",
      "count    10.000000\n",
      "mean      0.574272\n",
      "std       0.338126\n",
      "min       0.000000\n",
      "25%       0.427184\n",
      "50%       0.526699\n",
      "75%       0.850728\n",
      "max       1.000000\n",
      "Name: price, dtype: float64\n"
     ]
    }
   ],
   "source": [
    "print('Original shape:', df.shape)\n",
    "print('Cleaned shape:', df_clean.shape)\n",
    "print('Original missing values:')\n",
    "print(df.isnull().sum())\n",
    "print('Cleaned missing values:')\n",
    "print(df_clean.isnull().sum())\n",
    "print('Original price stats:')\n",
    "print(df['price'].describe())\n",
    "print('Cleaned price stats:')\n",
    "print(df_clean['price'].describe())\n"
   ]
  },
  {
   "cell_type": "code",
   "execution_count": 7,
   "metadata": {},
   "outputs": [],
   "source": [
    "import matplotlib.pyplot as plt\n",
    "import seaborn as sns"
   ]
  },
  {
   "cell_type": "code",
   "execution_count": 8,
   "metadata": {},
   "outputs": [
    {
     "data": {
      "image/png": "[encoded data removed]",
      "text/plain": [
       "<Figure size 800x300 with 1 Axes>"
      ]
     },
     "metadata": {},
     "output_type": "display_data"
    },
    {
     "data": {
      "image/png": "[encoded data removed]",
      "text/plain": [
       "<Figure size 800x300 with 1 Axes>"
      ]
     },
     "metadata": {},
     "output_type": "display_data"
    }
   ],
   "source": [
    "plt.figure(figsize=(8, 3))\n",
    "sns.heatmap(df.isnull(), cbar=False, yticklabels=False)\n",
    "plt.title('Original Data Missing Values')\n",
    "plt.show()\n",
    "\n",
    "plt.figure(figsize=(8, 3))\n",
    "sns.heatmap(df_clean.isnull(), cbar=False, yticklabels=False)\n",
    "plt.title('Cleaned Data Missing Values')\n",
    "plt.show()"
   ]
  },
  {
   "cell_type": "code",
   "execution_count": 9,
   "metadata": {},
   "outputs": [
    {
     "data": {
      "image/png": "[encoded data removed]",
      "text/plain": [
       "<Figure size 1200x400 with 2 Axes>"
      ]
     },
     "metadata": {},
     "output_type": "display_data"
    }
   ],
   "source": [
    "fig, axes = plt.subplots(1, 2, figsize=(12, 4))\n",
    "sns.histplot(df['price'], bins=10, kde=True, ax=axes[0], color='skyblue')\n",
    "axes[0].set_title('Original Price Distribution')\n",
    "sns.histplot(df_clean['price'], bins=10, kde=True, ax=axes[1], color='lightgreen')\n",
    "axes[1].set_title('Cleaned Price Distribution')\n",
    "plt.show()"
   ]
  },
  {
   "cell_type": "code",
   "execution_count": 10,
   "metadata": {},
   "outputs": [
    {
     "data": {
      "image/png": "[encoded data removed]",
      "text/plain": [
       "<Figure size 1200x400 with 2 Axes>"
      ]
     },
     "metadata": {},
     "output_type": "display_data"
    }
   ],
   "source": [
    "fig, axes = plt.subplots(1, 2, figsize=(12, 4))\n",
    "sns.histplot(df['volume'], bins=10, kde=True, ax=axes[0], color='skyblue')\n",
    "axes[0].set_title('Original Volume Distribution')\n",
    "sns.histplot(df_clean['volume'], bins=10, kde=True, ax=axes[1], color='lightgreen')\n",
    "axes[1].set_title('Cleaned Volume Distribution')\n",
    "plt.show()"
   ]
  },
  {
   "cell_type": "markdown",
   "metadata": {},
   "source": [
    "## Reflection and Tradeoffs\n",
    "\n",
    "In this data cleaning process, I systematically applied filling, dropping, and scaling methods as learned in lecture, and visualized the effects:\n",
    "\n",
    "- **Filling missing values:**  \n",
    "  I used the median to fill missing values in numeric columns. This approach is robust to outliers and preserves the central tendency of the data. However, if missingness is not random, this may introduce bias or distort the true distribution, as seen in the visual comparison where the filled values cluster at the median.\n",
    "\n",
    "- **Dropping columns with excessive missingness:**  \n",
    "  Columns with more than 50% missing values were dropped. This ensures that our analysis is not dominated by imputed data, but it may result in loss of potentially valuable information if the missingness is systematic. Visualizations of missing data before and after cleaning highlight the reduction in missingness.\n",
    "\n",
    "- **Scaling numeric features:**  \n",
    "  I scaled 'price' and 'volume' to the [0, 1] range using MinMaxScaler. This makes features comparable and is important for many machine learning algorithms. The tradeoff is that the original scale and interpretability of the data are lost, as shown in the distribution plots.\n",
    "\n",
    "- **Visual comparison:**  \n",
    "  By plotting the distributions and missing value heatmaps before and after cleaning, I can clearly see the impact of each step. This helps validate our cleaning strategy and reveals any unintended effects, such as changes in data spread or the introduction of artificial peaks.\n",
    "\n",
    "- **Reproducibility and modularity:**  \n",
    "  All cleaning steps are implemented as reusable functions in `src/cleaning.py`, ensuring that the process is transparent and can be easily applied to new datasets.\n",
    "\n",
    "**Assumptions:**  \n",
    "- Missing values are assumed to be missing at random.\n",
    "- Only numeric columns are filled and scaled.\n",
    "- Dropping columns is justified when missingness exceeds 50%.\n",
    "\n",
    "**Tradeoffs:**  \n",
    "- Imputation may introduce bias.\n",
    "- Dropping columns may lose information.\n",
    "- Scaling may reduce interpretability."
   ]
  }
 ],
 "metadata": {
  "kernelspec": {
   "display_name": "bootcamp_env",
   "language": "python",
   "name": "python3"
  },
  "language_info": {
   "codemirror_mode": {
    "name": "ipython",
    "version": 3
   },
   "file_extension": ".py",
   "mimetype": "text/x-python",
   "name": "python",
   "nbconvert_exporter": "python",
   "pygments_lexer": "ipython3",
   "version": "3.10.18"
  }
 },
 "nbformat": 4,
 "nbformat_minor": 2
}
